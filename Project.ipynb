{
 "cells": [
  {
   "cell_type": "markdown",
   "metadata": {},
   "source": [
    "# Goals of US Accidents dataset analysis\n",
    "\n",
    "- Understanding factors that contribute to traffic accidents\n",
    "- Building a predictive model for accident severity\n",
    "- Identifying high-risk locations or conditions\n",
    "- Creating visualizations of accident patterns\n",
    "= Providing insights that could help reduce accidents"
   ]
  },
  {
   "cell_type": "markdown",
   "metadata": {},
   "source": [
    "\n",
    "# Setting Up PySpark"
   ]
  },
  {
   "cell_type": "code",
   "execution_count": 2,
   "metadata": {},
   "outputs": [],
   "source": [
    "# # # !apt-get install openjdk-8-jdk-headless -qq > /dev/null\n",
    "# !wget -q https://dlcdn.apache.org/spark/spark-3.5.5/spark-3.5.5-bin-hadoop3.tgz\n",
    "# !tar xf spark-3.5.5-bin-hadoop3.tgz\n",
    "# !pip install -q findspark"
   ]
  },
  {
   "cell_type": "markdown",
   "metadata": {},
   "source": [
    "# Libraries"
   ]
  },
  {
   "cell_type": "code",
   "execution_count": 3,
   "metadata": {},
   "outputs": [],
   "source": [
    "import findspark\n",
    "findspark.init()\n",
    "from pyspark.sql import SparkSession\n",
    "\n",
    "from pyspark.sql import functions as F\n",
    "from pyspark.sql.types import *\n",
    "from pyspark.ml.feature import Imputer, StringIndexer, OneHotEncoder, VectorAssembler"
   ]
  },
  {
   "cell_type": "markdown",
   "metadata": {},
   "source": [
    "# Loading Data"
   ]
  },
  {
   "cell_type": "code",
   "execution_count": 4,
   "metadata": {},
   "outputs": [
    {
     "name": "stderr",
     "output_type": "stream",
     "text": [
      "25/04/11 12:43:24 WARN Utils: Your hostname, lenovo-server resolves to a loopback address: 127.0.1.1; using 192.168.100.30 instead (on interface eno1)\n",
      "25/04/11 12:43:24 WARN Utils: Set SPARK_LOCAL_IP if you need to bind to another address\n",
      "Setting default log level to \"WARN\".\n",
      "To adjust logging level use sc.setLogLevel(newLevel). For SparkR, use setLogLevel(newLevel).\n",
      "25/04/11 12:43:24 WARN NativeCodeLoader: Unable to load native-hadoop library for your platform... using builtin-java classes where applicable\n"
     ]
    }
   ],
   "source": [
    "spark = SparkSession.builder \\\n",
    "    .appName(\"US Accidents Analysis\") \\\n",
    "    .config(\"spark.driver.memory\", \"6g\") \\\n",
    "    .config(\"spark.executor.memory\", \"4g\") \\\n",
    "    .getOrCreate()"
   ]
  },
  {
   "cell_type": "code",
   "execution_count": 5,
   "metadata": {},
   "outputs": [
    {
     "name": "stderr",
     "output_type": "stream",
     "text": [
      "25/04/11 12:43:38 WARN GarbageCollectionMetrics: To enable non-built-in garbage collector(s) List(G1 Concurrent GC), users should configure it(them) to spark.eventLog.gcMetrics.youngGenerationGarbageCollectors or spark.eventLog.gcMetrics.oldGenerationGarbageCollectors\n",
      "                                                                                \r"
     ]
    }
   ],
   "source": [
    "df = spark.read.format(\"csv\") \\\n",
    "    .option(\"header\", \"True\") \\\n",
    "    .option(\"inferSchema\", \"True\") \\\n",
    "    .load(\"US_Accidents_March23.csv\")"
   ]
  },
  {
   "cell_type": "code",
   "execution_count": 6,
   "metadata": {},
   "outputs": [
    {
     "name": "stdout",
     "output_type": "stream",
     "text": [
      "root\n",
      " |-- ID: string (nullable = true)\n",
      " |-- Source: string (nullable = true)\n",
      " |-- Severity: integer (nullable = true)\n",
      " |-- Start_Time: timestamp (nullable = true)\n",
      " |-- End_Time: timestamp (nullable = true)\n",
      " |-- Start_Lat: double (nullable = true)\n",
      " |-- Start_Lng: double (nullable = true)\n",
      " |-- End_Lat: double (nullable = true)\n",
      " |-- End_Lng: double (nullable = true)\n",
      " |-- Distance(mi): double (nullable = true)\n",
      " |-- Description: string (nullable = true)\n",
      " |-- Street: string (nullable = true)\n",
      " |-- City: string (nullable = true)\n",
      " |-- County: string (nullable = true)\n",
      " |-- State: string (nullable = true)\n",
      " |-- Zipcode: string (nullable = true)\n",
      " |-- Country: string (nullable = true)\n",
      " |-- Timezone: string (nullable = true)\n",
      " |-- Airport_Code: string (nullable = true)\n",
      " |-- Weather_Timestamp: timestamp (nullable = true)\n",
      " |-- Temperature(F): double (nullable = true)\n",
      " |-- Wind_Chill(F): double (nullable = true)\n",
      " |-- Humidity(%): double (nullable = true)\n",
      " |-- Pressure(in): double (nullable = true)\n",
      " |-- Visibility(mi): double (nullable = true)\n",
      " |-- Wind_Direction: string (nullable = true)\n",
      " |-- Wind_Speed(mph): double (nullable = true)\n",
      " |-- Precipitation(in): double (nullable = true)\n",
      " |-- Weather_Condition: string (nullable = true)\n",
      " |-- Amenity: boolean (nullable = true)\n",
      " |-- Bump: boolean (nullable = true)\n",
      " |-- Crossing: boolean (nullable = true)\n",
      " |-- Give_Way: boolean (nullable = true)\n",
      " |-- Junction: boolean (nullable = true)\n",
      " |-- No_Exit: boolean (nullable = true)\n",
      " |-- Railway: boolean (nullable = true)\n",
      " |-- Roundabout: boolean (nullable = true)\n",
      " |-- Station: boolean (nullable = true)\n",
      " |-- Stop: boolean (nullable = true)\n",
      " |-- Traffic_Calming: boolean (nullable = true)\n",
      " |-- Traffic_Signal: boolean (nullable = true)\n",
      " |-- Turning_Loop: boolean (nullable = true)\n",
      " |-- Sunrise_Sunset: string (nullable = true)\n",
      " |-- Civil_Twilight: string (nullable = true)\n",
      " |-- Nautical_Twilight: string (nullable = true)\n",
      " |-- Astronomical_Twilight: string (nullable = true)\n",
      "\n"
     ]
    }
   ],
   "source": [
    "df.printSchema()"
   ]
  },
  {
   "cell_type": "code",
   "execution_count": null,
   "metadata": {},
   "outputs": [
    {
     "name": "stderr",
     "output_type": "stream",
     "text": [
      "25/04/11 11:20:26 WARN SparkStringUtils: Truncated the string representation of a plan since it was too large. This behavior can be adjusted by setting 'spark.sql.debug.maxToStringFields'.\n"
     ]
    },
    {
     "name": "stdout",
     "output_type": "stream",
     "text": [
      "+---+-------+--------+-------------------+-------------------+-----------------+------------------+-------+-------+------------+--------------------+--------------------+------------+----------+-----+----------+-------+----------+------------+-------------------+--------------+-------------+-----------+------------+--------------+--------------+---------------+-----------------+-----------------+-------+-----+--------+--------+--------+-------+-------+----------+-------+-----+---------------+--------------+------------+--------------+--------------+-----------------+---------------------+\n",
      "| ID| Source|Severity|         Start_Time|           End_Time|        Start_Lat|         Start_Lng|End_Lat|End_Lng|Distance(mi)|         Description|              Street|        City|    County|State|   Zipcode|Country|  Timezone|Airport_Code|  Weather_Timestamp|Temperature(F)|Wind_Chill(F)|Humidity(%)|Pressure(in)|Visibility(mi)|Wind_Direction|Wind_Speed(mph)|Precipitation(in)|Weather_Condition|Amenity| Bump|Crossing|Give_Way|Junction|No_Exit|Railway|Roundabout|Station| Stop|Traffic_Calming|Traffic_Signal|Turning_Loop|Sunrise_Sunset|Civil_Twilight|Nautical_Twilight|Astronomical_Twilight|\n",
      "+---+-------+--------+-------------------+-------------------+-----------------+------------------+-------+-------+------------+--------------------+--------------------+------------+----------+-----+----------+-------+----------+------------+-------------------+--------------+-------------+-----------+------------+--------------+--------------+---------------+-----------------+-----------------+-------+-----+--------+--------+--------+-------+-------+----------+-------+-----+---------------+--------------+------------+--------------+--------------+-----------------+---------------------+\n",
      "|A-1|Source2|       3|2016-02-08 05:46:00|2016-02-08 11:00:00|        39.865147|        -84.058723|   NULL|   NULL|        0.01|Right lane blocke...|              I-70 E|      Dayton|Montgomery|   OH|     45424|     US|US/Eastern|        KFFO|2016-02-08 05:58:00|          36.9|         NULL|       91.0|       29.68|          10.0|          Calm|           NULL|             0.02|       Light Rain|  false|false|   false|   false|   false|  false|  false|     false|  false|false|          false|         false|       false|         Night|         Night|            Night|                Night|\n",
      "|A-2|Source2|       2|2016-02-08 06:07:59|2016-02-08 06:37:59|39.92805900000001|        -82.831184|   NULL|   NULL|        0.01|Accident on Brice...|            Brice Rd|Reynoldsburg|  Franklin|   OH|43068-3402|     US|US/Eastern|        KCMH|2016-02-08 05:51:00|          37.9|         NULL|      100.0|       29.65|          10.0|          Calm|           NULL|              0.0|       Light Rain|  false|false|   false|   false|   false|  false|  false|     false|  false|false|          false|         false|       false|         Night|         Night|            Night|                  Day|\n",
      "|A-3|Source2|       2|2016-02-08 06:49:27|2016-02-08 07:19:27|        39.063148|        -84.032608|   NULL|   NULL|        0.01|Accident on OH-32...|      State Route 32|Williamsburg|  Clermont|   OH|     45176|     US|US/Eastern|        KI69|2016-02-08 06:56:00|          36.0|         33.3|      100.0|       29.67|          10.0|            SW|            3.5|             NULL|         Overcast|  false|false|   false|   false|   false|  false|  false|     false|  false|false|          false|          true|       false|         Night|         Night|              Day|                  Day|\n",
      "|A-4|Source2|       3|2016-02-08 07:23:34|2016-02-08 07:53:34|        39.747753|-84.20558199999998|   NULL|   NULL|        0.01|Accident on I-75 ...|              I-75 S|      Dayton|Montgomery|   OH|     45417|     US|US/Eastern|        KDAY|2016-02-08 07:38:00|          35.1|         31.0|       96.0|       29.64|           9.0|            SW|            4.6|             NULL|    Mostly Cloudy|  false|false|   false|   false|   false|  false|  false|     false|  false|false|          false|         false|       false|         Night|           Day|              Day|                  Day|\n",
      "|A-5|Source2|       2|2016-02-08 07:39:07|2016-02-08 08:09:07|        39.627781|        -84.188354|   NULL|   NULL|        0.01|Accident on McEwe...|Miamisburg Center...|      Dayton|Montgomery|   OH|     45459|     US|US/Eastern|        KMGY|2016-02-08 07:53:00|          36.0|         33.3|       89.0|       29.65|           6.0|            SW|            3.5|             NULL|    Mostly Cloudy|  false|false|   false|   false|   false|  false|  false|     false|  false|false|          false|          true|       false|           Day|           Day|              Day|                  Day|\n",
      "+---+-------+--------+-------------------+-------------------+-----------------+------------------+-------+-------+------------+--------------------+--------------------+------------+----------+-----+----------+-------+----------+------------+-------------------+--------------+-------------+-----------+------------+--------------+--------------+---------------+-----------------+-----------------+-------+-----+--------+--------+--------+-------+-------+----------+-------+-----+---------------+--------------+------------+--------------+--------------+-----------------+---------------------+\n",
      "only showing top 5 rows\n",
      "\n"
     ]
    }
   ],
   "source": [
    "df.show(5)"
   ]
  },
  {
   "cell_type": "code",
   "execution_count": null,
   "metadata": {},
   "outputs": [
    {
     "name": "stderr",
     "output_type": "stream",
     "text": [
      "[Stage 3:============================================>            (11 + 3) / 14]\r"
     ]
    },
    {
     "name": "stdout",
     "output_type": "stream",
     "text": [
      "Total number of records: 4543358\n",
      "Number of columns: 46\n",
      "Column names: ['ID', 'Source', 'Severity', 'Start_Time', 'End_Time', 'Start_Lat', 'Start_Lng', 'End_Lat', 'End_Lng', 'Distance(mi)', 'Description', 'Street', 'City', 'County', 'State', 'Zipcode', 'Country', 'Timezone', 'Airport_Code', 'Weather_Timestamp', 'Temperature(F)', 'Wind_Chill(F)', 'Humidity(%)', 'Pressure(in)', 'Visibility(mi)', 'Wind_Direction', 'Wind_Speed(mph)', 'Precipitation(in)', 'Weather_Condition', 'Amenity', 'Bump', 'Crossing', 'Give_Way', 'Junction', 'No_Exit', 'Railway', 'Roundabout', 'Station', 'Stop', 'Traffic_Calming', 'Traffic_Signal', 'Turning_Loop', 'Sunrise_Sunset', 'Civil_Twilight', 'Nautical_Twilight', 'Astronomical_Twilight']\n"
     ]
    },
    {
     "name": "stderr",
     "output_type": "stream",
     "text": [
      "                                                                                \r"
     ]
    }
   ],
   "source": [
    "print(f\"Total number of records: {df.count()}\")\n",
    "print(f\"Number of columns: {len(df.columns)}\")\n",
    "print(\"Column names:\", df.columns)"
   ]
  },
  {
   "cell_type": "markdown",
   "metadata": {},
   "source": [
    "# Data preprocess and clean"
   ]
  },
  {
   "cell_type": "code",
   "execution_count": null,
   "metadata": {},
   "outputs": [
    {
     "name": "stdout",
     "output_type": "stream",
     "text": [
      "Missing values per column:\n"
     ]
    },
    {
     "name": "stderr",
     "output_type": "stream",
     "text": [
      "25/04/11 11:20:28 WARN GarbageCollectionMetrics: To enable non-built-in garbage collector(s) List(G1 Concurrent GC), users should configure it(them) to spark.eventLog.gcMetrics.youngGenerationGarbageCollectors or spark.eventLog.gcMetrics.oldGenerationGarbageCollectors\n",
      "                                                                                \r"
     ]
    },
    {
     "name": "stdout",
     "output_type": "stream",
     "text": [
      "ID: 0\n"
     ]
    },
    {
     "name": "stderr",
     "output_type": "stream",
     "text": [
      "                                                                                \r"
     ]
    },
    {
     "name": "stdout",
     "output_type": "stream",
     "text": [
      "Source: 0\n"
     ]
    },
    {
     "name": "stderr",
     "output_type": "stream",
     "text": [
      "                                                                                \r"
     ]
    },
    {
     "name": "stdout",
     "output_type": "stream",
     "text": [
      "Severity: 0\n"
     ]
    },
    {
     "name": "stderr",
     "output_type": "stream",
     "text": [
      "                                                                                \r"
     ]
    },
    {
     "name": "stdout",
     "output_type": "stream",
     "text": [
      "Start_Time: 0\n"
     ]
    },
    {
     "name": "stderr",
     "output_type": "stream",
     "text": [
      "                                                                                \r"
     ]
    },
    {
     "name": "stdout",
     "output_type": "stream",
     "text": [
      "End_Time: 0\n"
     ]
    },
    {
     "name": "stderr",
     "output_type": "stream",
     "text": [
      "                                                                                \r"
     ]
    },
    {
     "name": "stdout",
     "output_type": "stream",
     "text": [
      "Start_Lat: 0\n"
     ]
    },
    {
     "name": "stderr",
     "output_type": "stream",
     "text": [
      "                                                                                \r"
     ]
    },
    {
     "name": "stdout",
     "output_type": "stream",
     "text": [
      "Start_Lng: 0\n"
     ]
    },
    {
     "name": "stderr",
     "output_type": "stream",
     "text": [
      "                                                                                \r"
     ]
    },
    {
     "name": "stdout",
     "output_type": "stream",
     "text": [
      "End_Lat: 3402762\n"
     ]
    },
    {
     "name": "stderr",
     "output_type": "stream",
     "text": [
      "                                                                                \r"
     ]
    },
    {
     "name": "stdout",
     "output_type": "stream",
     "text": [
      "End_Lng: 3402762\n"
     ]
    },
    {
     "name": "stderr",
     "output_type": "stream",
     "text": [
      "                                                                                \r"
     ]
    },
    {
     "name": "stdout",
     "output_type": "stream",
     "text": [
      "Distance(mi): 0\n"
     ]
    },
    {
     "name": "stderr",
     "output_type": "stream",
     "text": [
      "                                                                                \r"
     ]
    },
    {
     "name": "stdout",
     "output_type": "stream",
     "text": [
      "Description: 5\n"
     ]
    },
    {
     "name": "stderr",
     "output_type": "stream",
     "text": [
      "                                                                                \r"
     ]
    },
    {
     "name": "stdout",
     "output_type": "stream",
     "text": [
      "Street: 5001\n"
     ]
    },
    {
     "name": "stderr",
     "output_type": "stream",
     "text": [
      "                                                                                \r"
     ]
    },
    {
     "name": "stdout",
     "output_type": "stream",
     "text": [
      "City: 125\n"
     ]
    },
    {
     "name": "stderr",
     "output_type": "stream",
     "text": [
      "                                                                                \r"
     ]
    },
    {
     "name": "stdout",
     "output_type": "stream",
     "text": [
      "County: 0\n"
     ]
    },
    {
     "name": "stderr",
     "output_type": "stream",
     "text": [
      "                                                                                \r"
     ]
    },
    {
     "name": "stdout",
     "output_type": "stream",
     "text": [
      "State: 0\n"
     ]
    },
    {
     "name": "stderr",
     "output_type": "stream",
     "text": [
      "[Stage 51:====================================================>   (13 + 1) / 14]\r"
     ]
    },
    {
     "name": "stdout",
     "output_type": "stream",
     "text": [
      "Zipcode: 762\n"
     ]
    },
    {
     "name": "stderr",
     "output_type": "stream",
     "text": [
      "                                                                                \r"
     ]
    },
    {
     "name": "stdout",
     "output_type": "stream",
     "text": [
      "Country: 0\n"
     ]
    },
    {
     "name": "stderr",
     "output_type": "stream",
     "text": [
      "                                                                                \r"
     ]
    },
    {
     "name": "stdout",
     "output_type": "stream",
     "text": [
      "Timezone: 3853\n"
     ]
    },
    {
     "name": "stderr",
     "output_type": "stream",
     "text": [
      "                                                                                \r"
     ]
    },
    {
     "name": "stdout",
     "output_type": "stream",
     "text": [
      "Airport_Code: 10626\n"
     ]
    },
    {
     "name": "stderr",
     "output_type": "stream",
     "text": [
      "                                                                                \r"
     ]
    },
    {
     "name": "stdout",
     "output_type": "stream",
     "text": [
      "Weather_Timestamp: 59190\n"
     ]
    },
    {
     "name": "stderr",
     "output_type": "stream",
     "text": [
      "                                                                                \r"
     ]
    },
    {
     "name": "stdout",
     "output_type": "stream",
     "text": [
      "Temperature(F): 83630\n"
     ]
    },
    {
     "name": "stderr",
     "output_type": "stream",
     "text": [
      "                                                                                \r"
     ]
    },
    {
     "name": "stdout",
     "output_type": "stream",
     "text": [
      "Wind_Chill(F): 1693243\n"
     ]
    },
    {
     "name": "stderr",
     "output_type": "stream",
     "text": [
      "                                                                                \r"
     ]
    },
    {
     "name": "stdout",
     "output_type": "stream",
     "text": [
      "Humidity(%): 89203\n"
     ]
    },
    {
     "name": "stderr",
     "output_type": "stream",
     "text": [
      "                                                                                \r"
     ]
    },
    {
     "name": "stdout",
     "output_type": "stream",
     "text": [
      "Pressure(in): 71559\n"
     ]
    },
    {
     "name": "stderr",
     "output_type": "stream",
     "text": [
      "                                                                                \r"
     ]
    },
    {
     "name": "stdout",
     "output_type": "stream",
     "text": [
      "Visibility(mi): 94219\n"
     ]
    },
    {
     "name": "stderr",
     "output_type": "stream",
     "text": [
      "                                                                                \r"
     ]
    },
    {
     "name": "stdout",
     "output_type": "stream",
     "text": [
      "Wind_Direction: 83347\n"
     ]
    },
    {
     "name": "stderr",
     "output_type": "stream",
     "text": [
      "                                                                                \r"
     ]
    },
    {
     "name": "stdout",
     "output_type": "stream",
     "text": [
      "Wind_Speed(mph): 428987\n"
     ]
    },
    {
     "name": "stderr",
     "output_type": "stream",
     "text": [
      "                                                                                \r"
     ]
    },
    {
     "name": "stdout",
     "output_type": "stream",
     "text": [
      "Precipitation(in): 1822787\n"
     ]
    },
    {
     "name": "stderr",
     "output_type": "stream",
     "text": [
      "                                                                                \r"
     ]
    },
    {
     "name": "stdout",
     "output_type": "stream",
     "text": [
      "Weather_Condition: 92026\n"
     ]
    },
    {
     "name": "stderr",
     "output_type": "stream",
     "text": [
      "                                                                                \r"
     ]
    },
    {
     "name": "stdout",
     "output_type": "stream",
     "text": [
      "Amenity: 0\n"
     ]
    },
    {
     "name": "stderr",
     "output_type": "stream",
     "text": [
      "                                                                                \r"
     ]
    },
    {
     "name": "stdout",
     "output_type": "stream",
     "text": [
      "Bump: 0\n"
     ]
    },
    {
     "name": "stderr",
     "output_type": "stream",
     "text": [
      "                                                                                \r"
     ]
    },
    {
     "name": "stdout",
     "output_type": "stream",
     "text": [
      "Crossing: 0\n"
     ]
    },
    {
     "name": "stderr",
     "output_type": "stream",
     "text": [
      "                                                                                \r"
     ]
    },
    {
     "name": "stdout",
     "output_type": "stream",
     "text": [
      "Give_Way: 0\n"
     ]
    },
    {
     "name": "stderr",
     "output_type": "stream",
     "text": [
      "                                                                                \r"
     ]
    },
    {
     "name": "stdout",
     "output_type": "stream",
     "text": [
      "Junction: 0\n"
     ]
    },
    {
     "name": "stderr",
     "output_type": "stream",
     "text": [
      "                                                                                \r"
     ]
    },
    {
     "name": "stdout",
     "output_type": "stream",
     "text": [
      "No_Exit: 0\n"
     ]
    },
    {
     "name": "stderr",
     "output_type": "stream",
     "text": [
      "                                                                                \r"
     ]
    },
    {
     "name": "stdout",
     "output_type": "stream",
     "text": [
      "Railway: 0\n"
     ]
    },
    {
     "name": "stderr",
     "output_type": "stream",
     "text": [
      "                                                                                \r"
     ]
    },
    {
     "name": "stdout",
     "output_type": "stream",
     "text": [
      "Roundabout: 0\n"
     ]
    },
    {
     "name": "stderr",
     "output_type": "stream",
     "text": [
      "                                                                                \r"
     ]
    },
    {
     "name": "stdout",
     "output_type": "stream",
     "text": [
      "Station: 0\n"
     ]
    },
    {
     "name": "stderr",
     "output_type": "stream",
     "text": [
      "                                                                                \r"
     ]
    },
    {
     "name": "stdout",
     "output_type": "stream",
     "text": [
      "Stop: 0\n"
     ]
    },
    {
     "name": "stderr",
     "output_type": "stream",
     "text": [
      "                                                                                \r"
     ]
    },
    {
     "name": "stdout",
     "output_type": "stream",
     "text": [
      "Traffic_Calming: 0\n"
     ]
    },
    {
     "name": "stderr",
     "output_type": "stream",
     "text": [
      "                                                                                \r"
     ]
    },
    {
     "name": "stdout",
     "output_type": "stream",
     "text": [
      "Traffic_Signal: 0\n"
     ]
    },
    {
     "name": "stderr",
     "output_type": "stream",
     "text": [
      "                                                                                \r"
     ]
    },
    {
     "name": "stdout",
     "output_type": "stream",
     "text": [
      "Turning_Loop: 1\n"
     ]
    },
    {
     "name": "stderr",
     "output_type": "stream",
     "text": [
      "                                                                                \r"
     ]
    },
    {
     "name": "stdout",
     "output_type": "stream",
     "text": [
      "Sunrise_Sunset: 9259\n"
     ]
    },
    {
     "name": "stderr",
     "output_type": "stream",
     "text": [
      "                                                                                \r"
     ]
    },
    {
     "name": "stdout",
     "output_type": "stream",
     "text": [
      "Civil_Twilight: 9259\n"
     ]
    },
    {
     "name": "stderr",
     "output_type": "stream",
     "text": [
      "                                                                                \r"
     ]
    },
    {
     "name": "stdout",
     "output_type": "stream",
     "text": [
      "Nautical_Twilight: 9259\n"
     ]
    },
    {
     "name": "stderr",
     "output_type": "stream",
     "text": [
      "[Stage 141:===================================================>   (13 + 1) / 14]\r"
     ]
    },
    {
     "name": "stdout",
     "output_type": "stream",
     "text": [
      "Astronomical_Twilight: 9259\n"
     ]
    },
    {
     "name": "stderr",
     "output_type": "stream",
     "text": [
      "                                                                                \r"
     ]
    }
   ],
   "source": [
    "print(\"Missing values per column:\")\n",
    "for column_name, dtype in df.dtypes:\n",
    "    if dtype in (\"int\", \"double\", \"float\"):\n",
    "        # For numeric columns, check for nulls and NaN values\n",
    "        missing_count = df.filter(F.col(column_name).isNull() | F.isnan(column_name)).count()\n",
    "    else:\n",
    "        # For non-numeric columns, only check for nulls and empty strings\n",
    "        missing_count = df.filter(F.col(column_name).isNull() | (F.col(column_name) == \"\")).count()\n",
    "    \n",
    "    print(f\"{column_name}: {missing_count}\")"
   ]
  },
  {
   "cell_type": "markdown",
   "metadata": {},
   "source": [
    "# Dealing with missing values"
   ]
  },
  {
   "cell_type": "markdown",
   "metadata": {},
   "source": [
    "## End_Lat and End_Lng Missing values"
   ]
  },
  {
   "cell_type": "markdown",
   "metadata": {},
   "source": [
    "For End_Lat and End_Lng: Assuming, these are likely accidents where the endpoint wasn't recorded\n",
    "\n",
    "\n",
    "Dropping these columns, fill with Start_Lat/Start_Lng, or keep nulls"
   ]
  },
  {
   "cell_type": "code",
   "execution_count": null,
   "metadata": {},
   "outputs": [],
   "source": [
    "df = df.withColumn(\"End_Lat\", F.when(F.col(\"End_Lat\").isNull(), F.col(\"Start_Lat\")).otherwise(F.col(\"End_Lat\")))\n",
    "df = df.withColumn(\"End_Lng\", F.when(F.col(\"End_Lng\").isNull(), F.col(\"Start_Lng\")).otherwise(F.col(\"End_Lng\")))"
   ]
  },
  {
   "cell_type": "markdown",
   "metadata": {},
   "source": [
    "##  Weather-related columns Missing Values"
   ]
  },
  {
   "cell_type": "markdown",
   "metadata": {},
   "source": [
    "### Numeric"
   ]
  },
  {
   "cell_type": "markdown",
   "metadata": {},
   "source": [
    "We have options:\n",
    "- Fill with mean/median (for numeric data)\n",
    "- Fill with a special value indicating \"unknown\"\n",
    "- Leave as null for downstream processing"
   ]
  },
  {
   "cell_type": "code",
   "execution_count": null,
   "metadata": {},
   "outputs": [
    {
     "name": "stderr",
     "output_type": "stream",
     "text": [
      "                                                                                \r"
     ]
    }
   ],
   "source": [
    "weather_numeric_cols = [\"Temperature(F)\", \"Wind_Chill(F)\", \"Humidity(%)\", \n",
    "                        \"Pressure(in)\", \"Visibility(mi)\", \"Wind_Speed(mph)\", \n",
    "                        \"Precipitation(in)\"]\n",
    "\n",
    "for col in weather_numeric_cols:\n",
    "    # Calculate mean excluding null values\n",
    "    mean_val = df.select(F.mean(col)).collect()[0][0]\n",
    "    # Replace nulls with the mean\n",
    "    df = df.withColumn(col, F.when(F.col(col).isNull(), mean_val).otherwise(F.col(col)))"
   ]
  },
  {
   "cell_type": "markdown",
   "metadata": {},
   "source": [
    "### Categorical"
   ]
  },
  {
   "cell_type": "markdown",
   "metadata": {},
   "source": [
    "For categorical weather data, replacing missing with \"Unknown\""
   ]
  },
  {
   "cell_type": "code",
   "execution_count": null,
   "metadata": {},
   "outputs": [],
   "source": [
    "df = df.withColumn(\"Weather_Condition\", \n",
    "                  F.when(F.col(\"Weather_Condition\").isNull(), \"Unknown\")\n",
    "                   .otherwise(F.col(\"Weather_Condition\")))\n",
    "\n",
    "df = df.withColumn(\"Wind_Direction\", \n",
    "                  F.when(F.col(\"Wind_Direction\").isNull(), \"Unknown\")\n",
    "                   .otherwise(F.col(\"Wind_Direction\")))"
   ]
  },
  {
   "cell_type": "markdown",
   "metadata": {},
   "source": [
    "## Twilight-related columns Missing Values"
   ]
  },
  {
   "cell_type": "markdown",
   "metadata": {},
   "source": [
    "Filling with most frequent value"
   ]
  },
  {
   "cell_type": "code",
   "execution_count": null,
   "metadata": {},
   "outputs": [
    {
     "name": "stderr",
     "output_type": "stream",
     "text": [
      "                                                                                \r"
     ]
    }
   ],
   "source": [
    "twilight_cols = [\"Sunrise_Sunset\", \"Civil_Twilight\", \"Nautical_Twilight\", \"Astronomical_Twilight\"]\n",
    "for col in twilight_cols:\n",
    "    # Fill with most frequent value\n",
    "    most_common = df.groupBy(col).count().orderBy(\"count\", ascending=False).first()[0]\n",
    "    df = df.withColumn(col, F.when(F.col(col).isNull(), most_common).otherwise(F.col(col)))"
   ]
  },
  {
   "cell_type": "markdown",
   "metadata": {},
   "source": [
    "## Other location based and description"
   ]
  },
  {
   "cell_type": "code",
   "execution_count": null,
   "metadata": {},
   "outputs": [],
   "source": [
    "df = df.withColumn(\"Street\", F.when(F.col(\"Street\").isNull(), \"Unknown\").otherwise(F.col(\"Street\")))\n",
    "df = df.withColumn(\"City\", F.when(F.col(\"City\").isNull(), \"Unknown\").otherwise(F.col(\"City\")))\n",
    "df = df.withColumn(\"Zipcode\", F.when(F.col(\"Zipcode\").isNull(), \"Unknown\").otherwise(F.col(\"Zipcode\")))\n",
    "df = df.withColumn(\"Airport_Code\", F.when(F.col(\"Airport_Code\").isNull(), \"Unknown\").otherwise(F.col(\"Airport_Code\")))\n",
    "df = df.withColumn(\"Timezone\", F.when(F.col(\"Timezone\").isNull(), \"Unknown\").otherwise(F.col(\"Timezone\")))\n",
    "df = df.withColumn(\"Description\", F.when(F.col(\"Description\").isNull(), \"No description provided\").otherwise(F.col(\"Description\")))"
   ]
  },
  {
   "cell_type": "markdown",
   "metadata": {},
   "source": [
    "## Missing Weather_Timestamp with Start_Time"
   ]
  },
  {
   "cell_type": "code",
   "execution_count": null,
   "metadata": {},
   "outputs": [],
   "source": [
    "df = df.withColumn(\"Weather_Timestamp\", \n",
    "                  F.when(F.col(\"Weather_Timestamp\").isNull(), F.col(\"Start_Time\"))\n",
    "                   .otherwise(F.col(\"Weather_Timestamp\")))"
   ]
  },
  {
   "cell_type": "markdown",
   "metadata": {},
   "source": [
    "## After Clean"
   ]
  },
  {
   "cell_type": "code",
   "execution_count": null,
   "metadata": {},
   "outputs": [
    {
     "name": "stdout",
     "output_type": "stream",
     "text": [
      "Missing values after cleaning:\n"
     ]
    },
    {
     "name": "stderr",
     "output_type": "stream",
     "text": [
      "                                                                                \r"
     ]
    },
    {
     "name": "stdout",
     "output_type": "stream",
     "text": [
      "ID: 0\n"
     ]
    },
    {
     "name": "stderr",
     "output_type": "stream",
     "text": [
      "                                                                                \r"
     ]
    },
    {
     "name": "stdout",
     "output_type": "stream",
     "text": [
      "Source: 0\n"
     ]
    },
    {
     "name": "stderr",
     "output_type": "stream",
     "text": [
      "                                                                                \r"
     ]
    },
    {
     "name": "stdout",
     "output_type": "stream",
     "text": [
      "Severity: 0\n"
     ]
    },
    {
     "name": "stderr",
     "output_type": "stream",
     "text": [
      "                                                                                \r"
     ]
    },
    {
     "name": "stdout",
     "output_type": "stream",
     "text": [
      "Start_Time: 0\n"
     ]
    },
    {
     "name": "stderr",
     "output_type": "stream",
     "text": [
      "                                                                                \r"
     ]
    },
    {
     "name": "stdout",
     "output_type": "stream",
     "text": [
      "End_Time: 0\n"
     ]
    },
    {
     "name": "stderr",
     "output_type": "stream",
     "text": [
      "                                                                                \r"
     ]
    },
    {
     "name": "stdout",
     "output_type": "stream",
     "text": [
      "Start_Lat: 0\n"
     ]
    },
    {
     "name": "stderr",
     "output_type": "stream",
     "text": [
      "                                                                                \r"
     ]
    },
    {
     "name": "stdout",
     "output_type": "stream",
     "text": [
      "Start_Lng: 0\n"
     ]
    },
    {
     "name": "stderr",
     "output_type": "stream",
     "text": [
      "                                                                                \r"
     ]
    },
    {
     "name": "stdout",
     "output_type": "stream",
     "text": [
      "End_Lat: 0\n"
     ]
    },
    {
     "name": "stderr",
     "output_type": "stream",
     "text": [
      "                                                                                \r"
     ]
    },
    {
     "name": "stdout",
     "output_type": "stream",
     "text": [
      "End_Lng: 0\n"
     ]
    },
    {
     "name": "stderr",
     "output_type": "stream",
     "text": [
      "                                                                                \r"
     ]
    },
    {
     "name": "stdout",
     "output_type": "stream",
     "text": [
      "Distance(mi): 0\n"
     ]
    },
    {
     "name": "stderr",
     "output_type": "stream",
     "text": [
      "                                                                                \r"
     ]
    },
    {
     "name": "stdout",
     "output_type": "stream",
     "text": [
      "Description: 0\n"
     ]
    },
    {
     "name": "stderr",
     "output_type": "stream",
     "text": [
      "                                                                                \r"
     ]
    },
    {
     "name": "stdout",
     "output_type": "stream",
     "text": [
      "Street: 0\n"
     ]
    },
    {
     "name": "stderr",
     "output_type": "stream",
     "text": [
      "                                                                                \r"
     ]
    },
    {
     "name": "stdout",
     "output_type": "stream",
     "text": [
      "City: 0\n"
     ]
    },
    {
     "name": "stderr",
     "output_type": "stream",
     "text": [
      "                                                                                \r"
     ]
    },
    {
     "name": "stdout",
     "output_type": "stream",
     "text": [
      "County: 0\n"
     ]
    },
    {
     "name": "stderr",
     "output_type": "stream",
     "text": [
      "                                                                                \r"
     ]
    },
    {
     "name": "stdout",
     "output_type": "stream",
     "text": [
      "State: 0\n"
     ]
    },
    {
     "name": "stderr",
     "output_type": "stream",
     "text": [
      "                                                                                \r"
     ]
    },
    {
     "name": "stdout",
     "output_type": "stream",
     "text": [
      "Zipcode: 0\n"
     ]
    },
    {
     "name": "stderr",
     "output_type": "stream",
     "text": [
      "                                                                                \r"
     ]
    },
    {
     "name": "stdout",
     "output_type": "stream",
     "text": [
      "Country: 0\n"
     ]
    },
    {
     "name": "stderr",
     "output_type": "stream",
     "text": [
      "                                                                                \r"
     ]
    },
    {
     "name": "stdout",
     "output_type": "stream",
     "text": [
      "Timezone: 0\n"
     ]
    },
    {
     "name": "stderr",
     "output_type": "stream",
     "text": [
      "                                                                                \r"
     ]
    },
    {
     "name": "stdout",
     "output_type": "stream",
     "text": [
      "Airport_Code: 0\n"
     ]
    },
    {
     "name": "stderr",
     "output_type": "stream",
     "text": [
      "                                                                                \r"
     ]
    },
    {
     "name": "stdout",
     "output_type": "stream",
     "text": [
      "Weather_Timestamp: 0\n"
     ]
    },
    {
     "name": "stderr",
     "output_type": "stream",
     "text": [
      "                                                                                \r"
     ]
    },
    {
     "name": "stdout",
     "output_type": "stream",
     "text": [
      "Temperature(F): 0\n"
     ]
    },
    {
     "name": "stderr",
     "output_type": "stream",
     "text": [
      "                                                                                \r"
     ]
    },
    {
     "name": "stdout",
     "output_type": "stream",
     "text": [
      "Wind_Chill(F): 0\n"
     ]
    },
    {
     "name": "stderr",
     "output_type": "stream",
     "text": [
      "                                                                                \r"
     ]
    },
    {
     "name": "stdout",
     "output_type": "stream",
     "text": [
      "Humidity(%): 0\n"
     ]
    },
    {
     "name": "stderr",
     "output_type": "stream",
     "text": [
      "                                                                                \r"
     ]
    },
    {
     "name": "stdout",
     "output_type": "stream",
     "text": [
      "Pressure(in): 0\n"
     ]
    },
    {
     "name": "stderr",
     "output_type": "stream",
     "text": [
      "                                                                                \r"
     ]
    },
    {
     "name": "stdout",
     "output_type": "stream",
     "text": [
      "Visibility(mi): 0\n"
     ]
    },
    {
     "name": "stderr",
     "output_type": "stream",
     "text": [
      "                                                                                \r"
     ]
    },
    {
     "name": "stdout",
     "output_type": "stream",
     "text": [
      "Wind_Direction: 0\n"
     ]
    },
    {
     "name": "stderr",
     "output_type": "stream",
     "text": [
      "                                                                                \r"
     ]
    },
    {
     "name": "stdout",
     "output_type": "stream",
     "text": [
      "Wind_Speed(mph): 0\n"
     ]
    },
    {
     "name": "stderr",
     "output_type": "stream",
     "text": [
      "                                                                                \r"
     ]
    },
    {
     "name": "stdout",
     "output_type": "stream",
     "text": [
      "Precipitation(in): 0\n"
     ]
    },
    {
     "name": "stderr",
     "output_type": "stream",
     "text": [
      "                                                                                \r"
     ]
    },
    {
     "name": "stdout",
     "output_type": "stream",
     "text": [
      "Weather_Condition: 0\n"
     ]
    },
    {
     "name": "stderr",
     "output_type": "stream",
     "text": [
      "                                                                                \r"
     ]
    },
    {
     "name": "stdout",
     "output_type": "stream",
     "text": [
      "Amenity: 0\n"
     ]
    },
    {
     "name": "stderr",
     "output_type": "stream",
     "text": [
      "                                                                                \r"
     ]
    },
    {
     "name": "stdout",
     "output_type": "stream",
     "text": [
      "Bump: 0\n"
     ]
    },
    {
     "name": "stderr",
     "output_type": "stream",
     "text": [
      "                                                                                \r"
     ]
    },
    {
     "name": "stdout",
     "output_type": "stream",
     "text": [
      "Crossing: 0\n"
     ]
    },
    {
     "name": "stderr",
     "output_type": "stream",
     "text": [
      "                                                                                \r"
     ]
    },
    {
     "name": "stdout",
     "output_type": "stream",
     "text": [
      "Give_Way: 0\n"
     ]
    },
    {
     "name": "stderr",
     "output_type": "stream",
     "text": [
      "                                                                                \r"
     ]
    },
    {
     "name": "stdout",
     "output_type": "stream",
     "text": [
      "Junction: 0\n"
     ]
    },
    {
     "name": "stderr",
     "output_type": "stream",
     "text": [
      "                                                                                \r"
     ]
    },
    {
     "name": "stdout",
     "output_type": "stream",
     "text": [
      "No_Exit: 0\n"
     ]
    },
    {
     "name": "stderr",
     "output_type": "stream",
     "text": [
      "                                                                                \r"
     ]
    },
    {
     "name": "stdout",
     "output_type": "stream",
     "text": [
      "Railway: 0\n"
     ]
    },
    {
     "name": "stderr",
     "output_type": "stream",
     "text": [
      "                                                                                \r"
     ]
    },
    {
     "name": "stdout",
     "output_type": "stream",
     "text": [
      "Roundabout: 0\n"
     ]
    },
    {
     "name": "stderr",
     "output_type": "stream",
     "text": [
      "                                                                                \r"
     ]
    },
    {
     "name": "stdout",
     "output_type": "stream",
     "text": [
      "Station: 0\n"
     ]
    },
    {
     "name": "stderr",
     "output_type": "stream",
     "text": [
      "                                                                                \r"
     ]
    },
    {
     "name": "stdout",
     "output_type": "stream",
     "text": [
      "Stop: 0\n"
     ]
    },
    {
     "name": "stderr",
     "output_type": "stream",
     "text": [
      "                                                                                \r"
     ]
    },
    {
     "name": "stdout",
     "output_type": "stream",
     "text": [
      "Traffic_Calming: 0\n"
     ]
    },
    {
     "name": "stderr",
     "output_type": "stream",
     "text": [
      "                                                                                \r"
     ]
    },
    {
     "name": "stdout",
     "output_type": "stream",
     "text": [
      "Traffic_Signal: 0\n"
     ]
    },
    {
     "name": "stderr",
     "output_type": "stream",
     "text": [
      "                                                                                \r"
     ]
    },
    {
     "name": "stdout",
     "output_type": "stream",
     "text": [
      "Turning_Loop: 1\n"
     ]
    },
    {
     "name": "stderr",
     "output_type": "stream",
     "text": [
      "                                                                                \r"
     ]
    },
    {
     "name": "stdout",
     "output_type": "stream",
     "text": [
      "Sunrise_Sunset: 0\n"
     ]
    },
    {
     "name": "stderr",
     "output_type": "stream",
     "text": [
      "                                                                                \r"
     ]
    },
    {
     "name": "stdout",
     "output_type": "stream",
     "text": [
      "Civil_Twilight: 0\n"
     ]
    },
    {
     "name": "stderr",
     "output_type": "stream",
     "text": [
      "                                                                                \r"
     ]
    },
    {
     "name": "stdout",
     "output_type": "stream",
     "text": [
      "Nautical_Twilight: 0\n"
     ]
    },
    {
     "name": "stderr",
     "output_type": "stream",
     "text": [
      "[Stage 312:===================================================>   (13 + 1) / 14]\r"
     ]
    },
    {
     "name": "stdout",
     "output_type": "stream",
     "text": [
      "Astronomical_Twilight: 0\n"
     ]
    },
    {
     "name": "stderr",
     "output_type": "stream",
     "text": [
      "                                                                                \r"
     ]
    }
   ],
   "source": [
    "print(\"Missing values after cleaning:\")\n",
    "for column_name in df.columns:\n",
    "    missing_count = df.filter(F.col(column_name).isNull()).count()\n",
    "    print(f\"{column_name}: {missing_count}\")"
   ]
  },
  {
   "cell_type": "code",
   "execution_count": null,
   "metadata": {},
   "outputs": [
    {
     "name": "stdout",
     "output_type": "stream",
     "text": [
      "+---+-------+--------+-------------------+-------------------+-----------------+------------------+-----------------+------------------+------------+--------------------+--------------------+------------+----------+-----+----------+-------+----------+------------+-------------------+--------------+-----------------+-----------+------------+--------------+--------------+------------------+-------------------+-----------------+-------+-----+--------+--------+--------+-------+-------+----------+-------+-----+---------------+--------------+------------+--------------+--------------+-----------------+---------------------+\n",
      "| ID| Source|Severity|         Start_Time|           End_Time|        Start_Lat|         Start_Lng|          End_Lat|           End_Lng|Distance(mi)|         Description|              Street|        City|    County|State|   Zipcode|Country|  Timezone|Airport_Code|  Weather_Timestamp|Temperature(F)|    Wind_Chill(F)|Humidity(%)|Pressure(in)|Visibility(mi)|Wind_Direction|   Wind_Speed(mph)|  Precipitation(in)|Weather_Condition|Amenity| Bump|Crossing|Give_Way|Junction|No_Exit|Railway|Roundabout|Station| Stop|Traffic_Calming|Traffic_Signal|Turning_Loop|Sunrise_Sunset|Civil_Twilight|Nautical_Twilight|Astronomical_Twilight|\n",
      "+---+-------+--------+-------------------+-------------------+-----------------+------------------+-----------------+------------------+------------+--------------------+--------------------+------------+----------+-----+----------+-------+----------+------------+-------------------+--------------+-----------------+-----------+------------+--------------+--------------+------------------+-------------------+-----------------+-------+-----+--------+--------+--------+-------+-------+----------+-------+-----+---------------+--------------+------------+--------------+--------------+-----------------+---------------------+\n",
      "|A-1|Source2|       3|2016-02-08 05:46:00|2016-02-08 11:00:00|        39.865147|        -84.058723|        39.865147|        -84.058723|        0.01|Right lane blocke...|              I-70 E|      Dayton|Montgomery|   OH|     45424|     US|US/Eastern|        KFFO|2016-02-08 05:58:00|          36.9|57.16133633204273|       91.0|       29.68|          10.0|          Calm|7.8884331529663365|               0.02|       Light Rain|  false|false|   false|   false|   false|  false|  false|     false|  false|false|          false|         false|       false|         Night|         Night|            Night|                Night|\n",
      "|A-2|Source2|       2|2016-02-08 06:07:59|2016-02-08 06:37:59|39.92805900000001|        -82.831184|39.92805900000001|        -82.831184|        0.01|Accident on Brice...|            Brice Rd|Reynoldsburg|  Franklin|   OH|43068-3402|     US|US/Eastern|        KCMH|2016-02-08 05:51:00|          37.9|57.16133633204273|      100.0|       29.65|          10.0|          Calm|7.8884331529663365|                0.0|       Light Rain|  false|false|   false|   false|   false|  false|  false|     false|  false|false|          false|         false|       false|         Night|         Night|            Night|                  Day|\n",
      "|A-3|Source2|       2|2016-02-08 06:49:27|2016-02-08 07:19:27|        39.063148|        -84.032608|        39.063148|        -84.032608|        0.01|Accident on OH-32...|      State Route 32|Williamsburg|  Clermont|   OH|     45176|     US|US/Eastern|        KI69|2016-02-08 06:56:00|          36.0|             33.3|      100.0|       29.67|          10.0|            SW|               3.5|0.01089022488293797|         Overcast|  false|false|   false|   false|   false|  false|  false|     false|  false|false|          false|          true|       false|         Night|         Night|              Day|                  Day|\n",
      "|A-4|Source2|       3|2016-02-08 07:23:34|2016-02-08 07:53:34|        39.747753|-84.20558199999998|        39.747753|-84.20558199999998|        0.01|Accident on I-75 ...|              I-75 S|      Dayton|Montgomery|   OH|     45417|     US|US/Eastern|        KDAY|2016-02-08 07:38:00|          35.1|             31.0|       96.0|       29.64|           9.0|            SW|               4.6|0.01089022488293797|    Mostly Cloudy|  false|false|   false|   false|   false|  false|  false|     false|  false|false|          false|         false|       false|         Night|           Day|              Day|                  Day|\n",
      "|A-5|Source2|       2|2016-02-08 07:39:07|2016-02-08 08:09:07|        39.627781|        -84.188354|        39.627781|        -84.188354|        0.01|Accident on McEwe...|Miamisburg Center...|      Dayton|Montgomery|   OH|     45459|     US|US/Eastern|        KMGY|2016-02-08 07:53:00|          36.0|             33.3|       89.0|       29.65|           6.0|            SW|               3.5|0.01089022488293797|    Mostly Cloudy|  false|false|   false|   false|   false|  false|  false|     false|  false|false|          false|          true|       false|           Day|           Day|              Day|                  Day|\n",
      "+---+-------+--------+-------------------+-------------------+-----------------+------------------+-----------------+------------------+------------+--------------------+--------------------+------------+----------+-----+----------+-------+----------+------------+-------------------+--------------+-----------------+-----------+------------+--------------+--------------+------------------+-------------------+-----------------+-------+-----+--------+--------+--------+-------+-------+----------+-------+-----+---------------+--------------+------------+--------------+--------------+-----------------+---------------------+\n",
      "only showing top 5 rows\n",
      "\n"
     ]
    }
   ],
   "source": [
    "df.show(5)"
   ]
  },
  {
   "cell_type": "markdown",
   "metadata": {},
   "source": [
    "# Data Preprocessing"
   ]
  },
  {
   "cell_type": "code",
   "execution_count": null,
   "metadata": {},
   "outputs": [],
   "source": [
    "from pyspark.ml.feature import StringIndexer, OneHotEncoder, VectorAssembler, StandardScaler"
   ]
  },
  {
   "cell_type": "markdown",
   "metadata": {},
   "source": [
    "This classification is crucial because each data type requires different preprocessing approaches."
   ]
  },
  {
   "cell_type": "code",
   "execution_count": null,
   "metadata": {},
   "outputs": [],
   "source": [
    "categorical_cols = [\n",
    "    \"Source\", \"Severity\", \"State\", \"Country\", \"Timezone\", \"Weather_Condition\", \n",
    "    \"Wind_Direction\", \"Sunrise_Sunset\", \"Civil_Twilight\", \"Nautical_Twilight\", \n",
    "    \"Astronomical_Twilight\"\n",
    "]\n",
    "\n",
    "boolean_cols = [\n",
    "    \"Amenity\", \"Bump\", \"Crossing\", \"Give_Way\", \"Junction\", \"No_Exit\", \n",
    "    \"Railway\", \"Roundabout\", \"Station\", \"Stop\", \"Traffic_Calming\", \n",
    "    \"Traffic_Signal\", \"Turning_Loop\"\n",
    "]\n",
    "\n",
    "numerical_cols = [\n",
    "    \"Start_Lat\", \"Start_Lng\", \"End_Lat\", \"End_Lng\", \"Distance(mi)\", \n",
    "    \"Temperature(F)\", \"Wind_Chill(F)\", \"Humidity(%)\", \"Pressure(in)\", \n",
    "    \"Visibility(mi)\", \"Wind_Speed(mph)\", \"Precipitation(in)\"\n",
    "]"
   ]
  },
  {
   "cell_type": "markdown",
   "metadata": {},
   "source": [
    "**Step 1: String Indexing**\n",
    "\n",
    "This creates a collection of StringIndexer transformers that:\n",
    "- Convert each text value in categorical columns to a numerical index\n",
    "- Assign indices based on frequency (most frequent value gets index 0)\n",
    "- Create new columns with suffix \"_idx\" containing these numerical indices\n",
    "- Handle invalid or unseen values gracefully with the \"keep\" option"
   ]
  },
  {
   "cell_type": "code",
   "execution_count": null,
   "metadata": {},
   "outputs": [],
   "source": [
    "indexers = [StringIndexer(inputCol=col, outputCol=f\"{col}_idx\", handleInvalid=\"keep\") \n",
    "            for col in categorical_cols]"
   ]
  },
  {
   "cell_type": "markdown",
   "metadata": {},
   "source": [
    "**Step 2: One-Hot Encoding**\n",
    "\n",
    "This step transforms the indexed values into one-hot encoded vectors:\n",
    "- Each category becomes a sparse vector (mostly zeros with a single 1)\n",
    "- The vector length equals the number of unique values in the category\n",
    "- The resulting columns have suffix \"_ohe\" (one-hot encoded)\n",
    "- This transformation is essential as most ML algorithms cannot directly process categorical data"
   ]
  },
  {
   "cell_type": "code",
   "execution_count": null,
   "metadata": {},
   "outputs": [],
   "source": [
    "encoders = [OneHotEncoder(inputCol=f\"{col}_idx\", outputCol=f\"{col}_ohe\") \n",
    "            for col in categorical_cols]"
   ]
  },
  {
   "cell_type": "markdown",
   "metadata": {},
   "source": [
    "**Feature Vector Creation**\n",
    "\n",
    "**Step 3: Feature Column Collection**\n",
    "\n",
    "\n",
    "This collects all processed feature column names that will be used to build the final feature vector:\n",
    "- One-hot encoded categorical columns\n",
    "- Original numerical columns\n",
    "- Original boolean columns (already in 0/1 format)"
   ]
  },
  {
   "cell_type": "code",
   "execution_count": null,
   "metadata": {},
   "outputs": [],
   "source": [
    "feature_cols = [f\"{col}_ohe\" for col in categorical_cols] + numerical_cols + boolean_cols"
   ]
  },
  {
   "cell_type": "markdown",
   "metadata": {},
   "source": [
    "**Step 4: Vector Assembly**\n",
    "\n",
    "The VectorAssembler:\n",
    "- Takes all individual feature columns\n",
    "- Combines them into a single dense or sparse vector\n",
    "- Creates a new column called \"features\" containing these vectors\n",
    "- Properly handles any invalid values"
   ]
  },
  {
   "cell_type": "code",
   "execution_count": null,
   "metadata": {},
   "outputs": [],
   "source": [
    "assembler = VectorAssembler(inputCols=feature_cols, outputCol=\"features\", handleInvalid=\"keep\")"
   ]
  },
  {
   "cell_type": "markdown",
   "metadata": {},
   "source": [
    "**Feature Standardization**\n",
    "\n",
    "\n",
    "This transformer standardizes the assembled feature vectors by:\n",
    "- Subtracting the mean from each feature\n",
    "- Dividing by the standard deviation\n",
    "- Producing a new column \"scaled_features\" with standardized values\n",
    "- Ensuring all features contribute equally to model learning regardless of their original scale"
   ]
  },
  {
   "cell_type": "code",
   "execution_count": null,
   "metadata": {},
   "outputs": [],
   "source": [
    "scaler = StandardScaler(inputCol=\"features\", outputCol=\"scaled_features\")"
   ]
  },
  {
   "cell_type": "markdown",
   "metadata": {},
   "source": [
    "**Pipeline Construction**\n",
    "\n",
    "The Pipeline combines all preprocessing steps into a single workflow:\n",
    "1. all string indexers to convert categories to numbers\n",
    "2. all one-hot encoders to convert numbers to vectors\n",
    "3. Assemble all features into a single vector\n",
    "4. Scale the assembled vector\n",
    "\n",
    "This ensures transformations are applied in the correct order and simplifies deployment."
   ]
  },
  {
   "cell_type": "code",
   "execution_count": null,
   "metadata": {},
   "outputs": [
    {
     "name": "stderr",
     "output_type": "stream",
     "text": [
      "                                                                                \r"
     ]
    },
    {
     "name": "stdout",
     "output_type": "stream",
     "text": [
      "+--------------------+--------------------+\n",
      "|            features|     scaled_features|\n",
      "+--------------------+--------------------+\n",
      "|(259,[0,4,22,56,5...|(259,[0,4,22,56,5...|\n",
      "|(259,[0,3,22,56,5...|(259,[0,3,22,56,5...|\n",
      "|(259,[0,3,22,56,5...|(259,[0,3,22,56,5...|\n",
      "|(259,[0,4,22,56,5...|(259,[0,4,22,56,5...|\n",
      "|(259,[0,3,22,56,5...|(259,[0,3,22,56,5...|\n",
      "+--------------------+--------------------+\n",
      "only showing top 5 rows\n",
      "\n"
     ]
    }
   ],
   "source": [
    "from pyspark.ml import Pipeline\n",
    "\n",
    "preprocessing_pipeline = Pipeline(stages=indexers + encoders + [assembler, scaler])\n",
    "preprocessed_data = preprocessing_pipeline.fit(df).transform(df)\n",
    "preprocessed_data.select(\"features\", \"scaled_features\").show(5, truncate=True)"
   ]
  },
  {
   "cell_type": "markdown",
   "metadata": {},
   "source": [
    "# Feature Engineering"
   ]
  },
  {
   "cell_type": "code",
   "execution_count": null,
   "metadata": {},
   "outputs": [],
   "source": [
    "from pyspark.sql.functions import hour, dayofweek, month, year\n",
    "from pyspark.ml.feature import ChiSqSelector\n",
    "from pyspark.ml.stat import Correlation"
   ]
  },
  {
   "cell_type": "markdown",
   "metadata": {},
   "source": [
    "## Time Based Features"
   ]
  },
  {
   "cell_type": "code",
   "execution_count": null,
   "metadata": {},
   "outputs": [],
   "source": [
    "df_fe = preprocessed_data.withColumn(\"Hour\", hour(F.col(\"Start_Time\")))\n",
    "df_fe = df_fe.withColumn(\"DayOfWeek\", dayofweek(F.col(\"Start_Time\")))\n",
    "df_fe = df_fe.withColumn(\"Month\", month(F.col(\"Start_Time\")))\n",
    "df_fe = df_fe.withColumn(\"Year\", year(F.col(\"Start_Time\")))"
   ]
  },
  {
   "cell_type": "markdown",
   "metadata": {},
   "source": [
    "## Distance-based features"
   ]
  },
  {
   "cell_type": "code",
   "execution_count": null,
   "metadata": {},
   "outputs": [],
   "source": [
    "df_fe = df_fe.withColumn(\"Is_Long_Distance\", F.when(F.col(\"Distance(mi)\") > 5, 1).otherwise(0))"
   ]
  },
  {
   "cell_type": "markdown",
   "metadata": {},
   "source": [
    "## Weather severity feature"
   ]
  },
  {
   "cell_type": "code",
   "execution_count": null,
   "metadata": {},
   "outputs": [],
   "source": [
    "df_fe = df_fe.withColumn(\"Poor_Visibility\", F.when(F.col(\"Visibility(mi)\") < 5, 1).otherwise(0))\n",
    "df_fe = df_fe.withColumn(\"Extreme_Temp\", \n",
    "                         F.when((F.col(\"Temperature(F)\") > 90) | (F.col(\"Temperature(F)\") < 32), 1).otherwise(0))"
   ]
  },
  {
   "cell_type": "markdown",
   "metadata": {},
   "source": [
    "## Updating"
   ]
  },
  {
   "cell_type": "code",
   "execution_count": null,
   "metadata": {},
   "outputs": [],
   "source": [
    "new_numerical_cols = [\"Hour\", \"DayOfWeek\", \"Month\", \"Year\", \"Is_Long_Distance\", \n",
    "                      \"Poor_Visibility\", \"Extreme_Temp\"]\n",
    "\n",
    "all_features = feature_cols + new_numerical_cols\n",
    "new_assembler = VectorAssembler(inputCols=all_features, outputCol=\"features_engineered\", handleInvalid=\"keep\")\n",
    "\n",
    "df_fe = new_assembler.transform(df_fe)"
   ]
  },
  {
   "cell_type": "code",
   "execution_count": null,
   "metadata": {},
   "outputs": [
    {
     "name": "stdout",
     "output_type": "stream",
     "text": [
      "+----+---------+-----+----+----------------+---------------+------------+\n",
      "|Hour|DayOfWeek|Month|Year|Is_Long_Distance|Poor_Visibility|Extreme_Temp|\n",
      "+----+---------+-----+----+----------------+---------------+------------+\n",
      "|   5|        2|    2|2016|               0|              0|           0|\n",
      "|   6|        2|    2|2016|               0|              0|           0|\n",
      "|   6|        2|    2|2016|               0|              0|           0|\n",
      "|   7|        2|    2|2016|               0|              0|           0|\n",
      "|   7|        2|    2|2016|               0|              0|           0|\n",
      "+----+---------+-----+----+----------------+---------------+------------+\n",
      "only showing top 5 rows\n",
      "\n"
     ]
    }
   ],
   "source": [
    "df_fe.select(\"Hour\", \"DayOfWeek\", \"Month\", \"Year\", \"Is_Long_Distance\",\"Poor_Visibility\", \"Extreme_Temp\").show(5, truncate=True)"
   ]
  },
  {
   "cell_type": "markdown",
   "metadata": {},
   "source": [
    "- Created time-based features (Hour, DayOfWeek, Month, Year)\n",
    "- Derived distance-based features (Is_Long_Distance)\n",
    "- Generated weather severity indicators (Poor_Visibility, Extreme_Temp)\n",
    "- Assembled engineered features into a comprehensive feature vector\n",
    "- Performed feature selection to identify most important predictors\n",
    "- Analyzed feature correlations to understand relationships"
   ]
  },
  {
   "cell_type": "markdown",
   "metadata": {},
   "source": [
    "# Data Exploration (EDA)"
   ]
  },
  {
   "cell_type": "code",
   "execution_count": null,
   "metadata": {},
   "outputs": [],
   "source": [
    "import matplotlib.pyplot as plt\n",
    "import seaborn as sns\n",
    "from pyspark.sql.functions import col, count, desc, sum as spark_sum\n",
    "from pyspark.ml.stat import Correlation\n",
    "import pandas as pd\n",
    "import numpy as np\n",
    "from pyspark.ml.feature import VectorAssembler"
   ]
  },
  {
   "cell_type": "markdown",
   "metadata": {},
   "source": [
    "## Statistics and Data Distribution"
   ]
  },
  {
   "cell_type": "code",
   "execution_count": null,
   "metadata": {},
   "outputs": [
    {
     "name": "stdout",
     "output_type": "stream",
     "text": [
      "Dataset Dimensions:\n"
     ]
    },
    {
     "name": "stderr",
     "output_type": "stream",
     "text": [
      "                                                                                \r"
     ]
    },
    {
     "name": "stdout",
     "output_type": "stream",
     "text": [
      "Number of records: 4543358\n",
      "Number of features: 78\n",
      "\n",
      "Statistical Summary of Numerical Columns:\n"
     ]
    },
    {
     "name": "stderr",
     "output_type": "stream",
     "text": [
      "[Stage 359:>                                                        (0 + 1) / 1]\r"
     ]
    },
    {
     "name": "stdout",
     "output_type": "stream",
     "text": [
      "+-------+-----------------+------------------+------------------+-------------------+-------------------+------------------+-----------------+-----------------+------------------+-----------------+------------------+--------------------+\n",
      "|summary|        Start_Lat|         Start_Lng|           End_Lat|            End_Lng|       Distance(mi)|    Temperature(F)|    Wind_Chill(F)|      Humidity(%)|      Pressure(in)|   Visibility(mi)|   Wind_Speed(mph)|   Precipitation(in)|\n",
      "+-------+-----------------+------------------+------------------+-------------------+-------------------+------------------+-----------------+-----------------+------------------+-----------------+------------------+--------------------+\n",
      "|  count|          4543358|           4543358|           4543358|            4543358|            4543358|           4543358|          4543358|          4543358|           4543358|          4543358|           4543358|             4543358|\n",
      "|   mean|36.15846424701904|-93.65033080499005|36.158517113446415| -93.65023652595099|0.39748225740984855| 62.13315173032512|57.16133633210493|65.45243575941682|29.635709324144354|9.095734300502789| 7.888433152963627|0.010890224882971302|\n",
      "| stddev|4.899719702967349| 16.70861539115701|4.8998059794414655| 16.708529790009656| 1.7675613284473761|18.683946880820763| 18.2469998659937|22.41149406401844|0.9024336496016261|2.675733056085741|5.0562110195577965|    0.10932716897703|\n",
      "|    min|          24.5548|       -124.623833|           24.5548|        -124.623833|                0.0|             -89.0|            -89.0|              1.0|               0.0|              0.0|               0.0|                 0.0|\n",
      "|    25%|         33.37059|       -111.912586|         33.371521|-111.91251399999999|                0.0|              50.0|             55.0|             49.0|              29.5|             10.0|               5.0|                 0.0|\n",
      "|    50%|        35.599557|-86.94498399999998| 35.59871135900687| -86.94498399999998|                0.0|              64.0|57.16133633204273|             67.0|             29.89|             10.0|7.8884331529663365|                 0.0|\n",
      "|    75%|        40.035103|        -80.666786|         40.034565|         -80.666786|              0.078|              76.0|             67.0|             84.0|             30.06|             10.0|              10.0| 0.01089022488293797|\n",
      "|    max|        49.002201|        -67.113167|            49.075| -67.10924200000001|             441.75|             207.0|            207.0|            100.0|             58.63|            140.0|             822.8|               36.47|\n",
      "+-------+-----------------+------------------+------------------+-------------------+-------------------+------------------+-----------------+-----------------+------------------+-----------------+------------------+--------------------+\n",
      "\n"
     ]
    },
    {
     "name": "stderr",
     "output_type": "stream",
     "text": [
      "                                                                                \r"
     ]
    }
   ],
   "source": [
    "print(\"Dataset Dimensions:\")\n",
    "print(f\"Number of records: {df_fe.count()}\")\n",
    "print(f\"Number of features: {len(df_fe.columns)}\")\n",
    "\n",
    "print(\"\\nStatistical Summary of Numerical Columns:\")\n",
    "df_fe.select(numerical_cols).summary().show()"
   ]
  },
  {
   "cell_type": "markdown",
   "metadata": {},
   "source": [
    "## Examining Accident Severity Distribution"
   ]
  },
  {
   "cell_type": "code",
   "execution_count": null,
   "metadata": {},
   "outputs": [
    {
     "name": "stderr",
     "output_type": "stream",
     "text": [
      "                                                                                \r"
     ]
    },
    {
     "data": {
      "image/png": "[encoded data removed]",
      "text/plain": [
       "<Figure size 1000x600 with 1 Axes>"
      ]
     },
     "metadata": {},
     "output_type": "display_data"
    }
   ],
   "source": [
    "severity_counts = df_fe.groupBy(\"Severity\").count().orderBy(\"Severity\")\n",
    "severity_pd = severity_counts.toPandas()\n",
    "\n",
    "plt.figure(figsize=(10, 6))\n",
    "plt.bar(severity_pd[\"Severity\"].astype(str), severity_pd[\"count\"])\n",
    "plt.title(\"Distribution of Accident Severity\")\n",
    "plt.xlabel(\"Severity Level\")\n",
    "plt.ylabel(\"Count\")\n",
    "plt.xticks(rotation=0)\n",
    "plt.tight_layout()\n",
    "plt.show()\n"
   ]
  },
  {
   "cell_type": "markdown",
   "metadata": {},
   "source": [
    "## Temporal Analysis"
   ]
  },
  {
   "cell_type": "markdown",
   "metadata": {},
   "source": [
    "### Hourly distribution"
   ]
  },
  {
   "cell_type": "code",
   "execution_count": null,
   "metadata": {},
   "outputs": [
    {
     "name": "stderr",
     "output_type": "stream",
     "text": [
      "                                                                                \r"
     ]
    },
    {
     "data": {
      "image/png": "[encoded data removed]",
      "text/plain": [
       "<Figure size 1200x600 with 1 Axes>"
      ]
     },
     "metadata": {},
     "output_type": "display_data"
    }
   ],
   "source": [
    "hourly_counts = df_fe.groupBy(\"Hour\").count().orderBy(\"Hour\")\n",
    "hourly_pd = hourly_counts.toPandas()\n",
    "\n",
    "plt.figure(figsize=(12, 6))\n",
    "plt.bar(hourly_pd[\"Hour\"], hourly_pd[\"count\"])\n",
    "plt.title(\"Hourly Distribution of Accidents\")\n",
    "plt.xlabel(\"Hour of Day (24-hour format)\")\n",
    "plt.ylabel(\"Number of Accidents\")\n",
    "plt.xticks(range(0, 24))\n",
    "plt.grid(axis='y', linestyle='--', alpha=0.7)\n",
    "plt.tight_layout()\n",
    "plt.show()\n"
   ]
  },
  {
   "cell_type": "markdown",
   "metadata": {},
   "source": [
    "### Day of week distribution"
   ]
  },
  {
   "cell_type": "code",
   "execution_count": null,
   "metadata": {},
   "outputs": [
    {
     "name": "stderr",
     "output_type": "stream",
     "text": [
      "                                                                                \r"
     ]
    },
    {
     "data": {
      "image/png": "[encoded data removed]",
      "text/plain": [
       "<Figure size 1200x600 with 1 Axes>"
      ]
     },
     "metadata": {},
     "output_type": "display_data"
    }
   ],
   "source": [
    "day_mapping = {1: \"Sunday\", 2: \"Monday\", 3: \"Tuesday\", 4: \"Wednesday\", \n",
    "               5: \"Thursday\", 6: \"Friday\", 7: \"Saturday\"}\n",
    "               \n",
    "day_counts = df_fe.groupBy(\"DayOfWeek\").count().orderBy(\"DayOfWeek\")\n",
    "day_pd = day_counts.toPandas()\n",
    "day_pd[\"DayName\"] = day_pd[\"DayOfWeek\"].map(day_mapping)\n",
    "\n",
    "plt.figure(figsize=(12, 6))\n",
    "plt.bar(day_pd[\"DayName\"], day_pd[\"count\"])\n",
    "plt.title(\"Accidents by Day of Week\")\n",
    "plt.xlabel(\"Day of Week\")\n",
    "plt.ylabel(\"Number of Accidents\")\n",
    "plt.tight_layout()\n",
    "plt.show()"
   ]
  },
  {
   "cell_type": "markdown",
   "metadata": {},
   "source": [
    "### Monthly distribution"
   ]
  },
  {
   "cell_type": "code",
   "execution_count": null,
   "metadata": {},
   "outputs": [
    {
     "name": "stderr",
     "output_type": "stream",
     "text": [
      "                                                                                \r"
     ]
    },
    {
     "data": {
      "image/png": "[encoded data removed]",
      "text/plain": [
       "<Figure size 1200x600 with 1 Axes>"
      ]
     },
     "metadata": {},
     "output_type": "display_data"
    }
   ],
   "source": [
    "month_mapping = {1: \"Jan\", 2: \"Feb\", 3: \"Mar\", 4: \"Apr\", 5: \"May\", 6: \"Jun\",\n",
    "                 7: \"Jul\", 8: \"Aug\", 9: \"Sep\", 10: \"Oct\", 11: \"Nov\", 12: \"Dec\"}\n",
    "                 \n",
    "month_counts = df_fe.groupBy(\"Month\").count().orderBy(\"Month\")\n",
    "month_pd = month_counts.toPandas()\n",
    "month_pd[\"MonthName\"] = month_pd[\"Month\"].map(month_mapping)\n",
    "\n",
    "plt.figure(figsize=(12, 6))\n",
    "plt.bar(month_pd[\"MonthName\"], month_pd[\"count\"])\n",
    "plt.title(\"Monthly Distribution of Accidents\")\n",
    "plt.xlabel(\"Month\")\n",
    "plt.ylabel(\"Number of Accidents\")\n",
    "plt.tight_layout()\n",
    "plt.show()"
   ]
  },
  {
   "cell_type": "markdown",
   "metadata": {},
   "source": [
    "### Yearly trend"
   ]
  },
  {
   "cell_type": "code",
   "execution_count": null,
   "metadata": {},
   "outputs": [
    {
     "name": "stderr",
     "output_type": "stream",
     "text": [
      "                                                                                \r"
     ]
    },
    {
     "data": {
      "image/png": "[encoded data removed]",
      "text/plain": [
       "<Figure size 1000x600 with 1 Axes>"
      ]
     },
     "metadata": {},
     "output_type": "display_data"
    }
   ],
   "source": [
    "year_counts = df_fe.groupBy(\"Year\").count().orderBy(\"Year\")\n",
    "year_pd = year_counts.toPandas()\n",
    "\n",
    "plt.figure(figsize=(10, 6))\n",
    "plt.bar(year_pd[\"Year\"].astype(str), year_pd[\"count\"])\n",
    "plt.title(\"Yearly Distribution of Accidents\")\n",
    "plt.xlabel(\"Year\")\n",
    "plt.ylabel(\"Number of Accidents\")\n",
    "plt.tight_layout()\n",
    "plt.show()"
   ]
  },
  {
   "cell_type": "markdown",
   "metadata": {},
   "source": [
    "## Geographic Analysis"
   ]
  },
  {
   "cell_type": "markdown",
   "metadata": {},
   "source": [
    "### Top 15 states with most accidents"
   ]
  },
  {
   "cell_type": "code",
   "execution_count": null,
   "metadata": {},
   "outputs": [
    {
     "name": "stderr",
     "output_type": "stream",
     "text": [
      "                                                                                \r"
     ]
    },
    {
     "data": {
      "image/png": "[encoded data removed]",
      "text/plain": [
       "<Figure size 1200x800 with 1 Axes>"
      ]
     },
     "metadata": {},
     "output_type": "display_data"
    }
   ],
   "source": [
    "top_states = df_fe.groupBy(\"State\").count().orderBy(desc(\"count\")).limit(15)\n",
    "top_states_pd = top_states.toPandas()\n",
    "\n",
    "plt.figure(figsize=(12, 8))\n",
    "plt.barh(top_states_pd[\"State\"][::-1], top_states_pd[\"count\"][::-1])\n",
    "plt.title(\"Top 15 States with Highest Number of Accidents\")\n",
    "plt.xlabel(\"Number of Accidents\")\n",
    "plt.ylabel(\"State\")\n",
    "plt.tight_layout()\n",
    "plt.show()\n"
   ]
  },
  {
   "cell_type": "markdown",
   "metadata": {},
   "source": [
    "## Weather Condition Analysis"
   ]
  },
  {
   "cell_type": "markdown",
   "metadata": {},
   "source": [
    "### Top weather conditions"
   ]
  },
  {
   "cell_type": "code",
   "execution_count": null,
   "metadata": {},
   "outputs": [
    {
     "name": "stderr",
     "output_type": "stream",
     "text": [
      "                                                                                \r"
     ]
    },
    {
     "data": {
      "image/png": "[encoded data removed]",
      "text/plain": [
       "<Figure size 1400x800 with 1 Axes>"
      ]
     },
     "metadata": {},
     "output_type": "display_data"
    }
   ],
   "source": [
    "top_weather = df_fe.groupBy(\"Weather_Condition\").count().orderBy(desc(\"count\")).limit(10)\n",
    "top_weather_pd = top_weather.toPandas()\n",
    "\n",
    "plt.figure(figsize=(14, 8))\n",
    "plt.barh(top_weather_pd[\"Weather_Condition\"][::-1], top_weather_pd[\"count\"][::-1])\n",
    "plt.title(\"Top 10 Weather Conditions During Accidents\")\n",
    "plt.xlabel(\"Number of Accidents\")\n",
    "plt.ylabel(\"Weather Condition\")\n",
    "plt.tight_layout()\n",
    "plt.show()"
   ]
  },
  {
   "cell_type": "markdown",
   "metadata": {},
   "source": [
    "### Temperature distribution"
   ]
  },
  {
   "cell_type": "code",
   "execution_count": null,
   "metadata": {},
   "outputs": [
    {
     "name": "stderr",
     "output_type": "stream",
     "text": [
      "                                                                                \r"
     ]
    },
    {
     "data": {
      "image/png": "[encoded data removed]",
      "text/plain": [
       "<Figure size 1200x600 with 1 Axes>"
      ]
     },
     "metadata": {},
     "output_type": "display_data"
    }
   ],
   "source": [
    "temp_data = df_fe.select(\"Temperature(F)\").toPandas()\n",
    "\n",
    "plt.figure(figsize=(12, 6))\n",
    "sns.histplot(temp_data[\"Temperature(F)\"], bins=50, kde=True)\n",
    "plt.title(\"Temperature Distribution During Accidents\")\n",
    "plt.xlabel(\"Temperature (°F)\")\n",
    "plt.ylabel(\"Frequency\")\n",
    "plt.axvline(x=32, color='r', linestyle='--', label=\"Freezing Point (32°F)\")\n",
    "plt.axvline(x=90, color='orange', linestyle='--', label=\"Hot Day (90°F)\")\n",
    "plt.legend()\n",
    "plt.tight_layout()\n",
    "plt.show()"
   ]
  },
  {
   "cell_type": "markdown",
   "metadata": {},
   "source": [
    "## Road Features Analysis"
   ]
  },
  {
   "cell_type": "markdown",
   "metadata": {},
   "source": [
    "### Road feature impact"
   ]
  },
  {
   "cell_type": "code",
   "execution_count": null,
   "metadata": {},
   "outputs": [
    {
     "name": "stderr",
     "output_type": "stream",
     "text": [
      "                                                                                \r"
     ]
    },
    {
     "data": {
      "image/png": "[encoded data removed]",
      "text/plain": [
       "<Figure size 1200x600 with 1 Axes>"
      ]
     },
     "metadata": {},
     "output_type": "display_data"
    }
   ],
   "source": [
    "road_features = [\"Junction\", \"Traffic_Signal\", \"Stop\", \"Crossing\", \"Railway\", \"Roundabout\"]\n",
    "feature_counts = {}\n",
    "\n",
    "for feature in road_features:\n",
    "    counts = df_fe.groupBy(feature).count().orderBy(feature).toPandas()\n",
    "    if len(counts) == 2:  # Binary feature (0/1)\n",
    "        feature_counts[feature] = counts.iloc[1][\"count\"]  # Count of \"True\" values\n",
    "\n",
    "# Create bar chart of road features\n",
    "plt.figure(figsize=(12, 6))\n",
    "plt.bar(feature_counts.keys(), feature_counts.values())\n",
    "plt.title(\"Number of Accidents with Road Features Present\")\n",
    "plt.xlabel(\"Road Feature\")\n",
    "plt.ylabel(\"Count\")\n",
    "plt.xticks(rotation=45)\n",
    "plt.tight_layout()\n",
    "plt.show()"
   ]
  },
  {
   "cell_type": "markdown",
   "metadata": {},
   "source": [
    "## Correlation Analysis"
   ]
  },
  {
   "cell_type": "code",
   "execution_count": null,
   "metadata": {},
   "outputs": [
    {
     "name": "stderr",
     "output_type": "stream",
     "text": [
      "25/04/11 11:26:37 WARN InstanceBuilder: Failed to load implementation from:dev.ludovic.netlib.blas.VectorBLAS\n",
      "                                                                                \r"
     ]
    },
    {
     "data": {
      "image/png": "[encoded data removed]",
      "text/plain": [
       "<Figure size 1200x1000 with 2 Axes>"
      ]
     },
     "metadata": {},
     "output_type": "display_data"
    }
   ],
   "source": [
    "correlation_cols = [\"Temperature(F)\", \"Wind_Speed(mph)\", \"Visibility(mi)\", \n",
    "                    \"Pressure(in)\", \"Humidity(%)\", \"Hour\", \"DayOfWeek\", \n",
    "                    \"Distance(mi)\", \"Severity_idx\"]\n",
    "correlation_assembler = VectorAssembler(\n",
    "    inputCols=correlation_cols,\n",
    "    outputCol=\"correlation_features\",\n",
    "    handleInvalid=\"skip\"\n",
    ")\n",
    "correlation_df = correlation_assembler.transform(df_fe).select(\"correlation_features\")\n",
    "\n",
    "from pyspark.ml.stat import Correlation\n",
    "correlation_matrix = Correlation.corr(correlation_df, \"correlation_features\").collect()[0][0]\n",
    "\n",
    "# Convert Spark Matrix to numpy array\n",
    "correlation_array = np.array(correlation_matrix.toArray())\n",
    "\n",
    "# Plot correlation heatmap\n",
    "plt.figure(figsize=(12, 10))\n",
    "sns.heatmap(\n",
    "    correlation_array, \n",
    "    annot=True, \n",
    "    cmap=\"coolwarm\", \n",
    "    fmt=\".2f\", \n",
    "    linewidths=0.5, \n",
    "    vmin=-1, \n",
    "    vmax=1,\n",
    "    xticklabels=correlation_cols,\n",
    "    yticklabels=correlation_cols\n",
    ")\n",
    "plt.title(\"Correlation Matrix of Numerical Features\")\n",
    "plt.tight_layout()\n",
    "plt.show()\n",
    "\n"
   ]
  },
  {
   "cell_type": "markdown",
   "metadata": {},
   "source": [
    "## Severity Analysis by Feature"
   ]
  },
  {
   "cell_type": "markdown",
   "metadata": {},
   "source": [
    "### Severity by time of day"
   ]
  },
  {
   "cell_type": "code",
   "execution_count": null,
   "metadata": {},
   "outputs": [
    {
     "name": "stderr",
     "output_type": "stream",
     "text": [
      "                                                                                \r"
     ]
    },
    {
     "data": {
      "text/plain": [
       "<Figure size 1400x800 with 0 Axes>"
      ]
     },
     "metadata": {},
     "output_type": "display_data"
    },
    {
     "data": {
      "image/png": "[encoded data removed]",
      "text/plain": [
       "<Figure size 1400x800 with 1 Axes>"
      ]
     },
     "metadata": {},
     "output_type": "display_data"
    }
   ],
   "source": [
    "severity_by_hour = df_fe.groupBy(\"Hour\", \"Severity\").count().orderBy(\"Hour\", \"Severity\")\n",
    "severity_hour_pd = severity_by_hour.toPandas()\n",
    "\n",
    "# Pivot the data for stacked bar chart\n",
    "severity_hour_pivot = severity_hour_pd.pivot(index=\"Hour\", columns=\"Severity\", values=\"count\").fillna(0)\n",
    "\n",
    "plt.figure(figsize=(14, 8))\n",
    "severity_hour_pivot.plot(kind=\"bar\", stacked=True, figsize=(14, 8))\n",
    "plt.title(\"Accident Severity Distribution by Hour of Day\")\n",
    "plt.xlabel(\"Hour of Day\")\n",
    "plt.ylabel(\"Number of Accidents\")\n",
    "plt.legend(title=\"Severity Level\")\n",
    "plt.tight_layout()\n",
    "plt.show()\n",
    "\n"
   ]
  },
  {
   "cell_type": "markdown",
   "metadata": {},
   "source": [
    "## Analysis of Visibility and Its Impact"
   ]
  },
  {
   "cell_type": "code",
   "execution_count": null,
   "metadata": {},
   "outputs": [
    {
     "name": "stderr",
     "output_type": "stream",
     "text": [
      "                                                                                \r"
     ]
    },
    {
     "data": {
      "text/plain": [
       "<Figure size 1000x600 with 0 Axes>"
      ]
     },
     "metadata": {},
     "output_type": "display_data"
    },
    {
     "data": {
      "image/png": "[encoded data removed]",
      "text/plain": [
       "<Figure size 640x480 with 1 Axes>"
      ]
     },
     "metadata": {},
     "output_type": "display_data"
    }
   ],
   "source": [
    "vis_severity = df_fe.groupBy(\"Poor_Visibility\", \"Severity\").count().orderBy(\"Poor_Visibility\", \"Severity\")\n",
    "vis_severity_pd = vis_severity.toPandas()\n",
    "\n",
    "# Create pivot table\n",
    "vis_severity_pivot = vis_severity_pd.pivot(index=\"Poor_Visibility\", columns=\"Severity\", values=\"count\").fillna(0)\n",
    "\n",
    "plt.figure(figsize=(10, 6))\n",
    "vis_severity_pivot.plot(kind=\"bar\", stacked=True)\n",
    "plt.title(\"Impact of Poor Visibility on Accident Severity\")\n",
    "plt.xlabel(\"Poor Visibility (1 = Yes, 0 = No)\")\n",
    "plt.ylabel(\"Number of Accidents\")\n",
    "plt.legend(title=\"Severity Level\")\n",
    "plt.tight_layout()\n",
    "plt.show()"
   ]
  },
  {
   "cell_type": "markdown",
   "metadata": {},
   "source": [
    "# Machine Training"
   ]
  },
  {
   "cell_type": "code",
   "execution_count": null,
   "metadata": {},
   "outputs": [
    {
     "name": "stderr",
     "output_type": "stream",
     "text": [
      "                                                                                \r"
     ]
    },
    {
     "name": "stdout",
     "output_type": "stream",
     "text": [
      "Training set size: 3635685\n"
     ]
    },
    {
     "name": "stderr",
     "output_type": "stream",
     "text": [
      "[Stage 480:===================================================>   (13 + 1) / 14]\r"
     ]
    },
    {
     "name": "stdout",
     "output_type": "stream",
     "text": [
      "Test set size: 907673\n"
     ]
    },
    {
     "name": "stderr",
     "output_type": "stream",
     "text": [
      "                                                                                \r"
     ]
    }
   ],
   "source": [
    "from pyspark.ml.classification import LogisticRegression, RandomForestClassifier, GBTClassifier\n",
    "from pyspark.ml.evaluation import MulticlassClassificationEvaluator\n",
    "from pyspark.ml import Pipeline\n",
    "from pyspark.sql.functions import col\n",
    "\n",
    "train_data, test_data = df_fe.randomSplit([0.8, 0.2], seed=42)\n",
    "\n",
    "print(f\"Training set size: {train_data.count()}\")\n",
    "print(f\"Test set size: {test_data.count()}\")"
   ]
  },
  {
   "cell_type": "code",
   "execution_count": null,
   "metadata": {},
   "outputs": [],
   "source": [
    "label_indexer = StringIndexer(inputCol=\"Severity\", outputCol=\"label\", handleInvalid=\"keep\")\n",
    "feature_col = \"features_engineered\""
   ]
  },
  {
   "cell_type": "markdown",
   "metadata": {},
   "source": [
    "## PCA"
   ]
  },
  {
   "cell_type": "code",
   "execution_count": null,
   "metadata": {},
   "outputs": [],
   "source": [
    "from pyspark.ml.feature import PCA\n",
    "n_components = 10\n",
    "pca = PCA(inputCol=feature_col, outputCol=\"pca_features\", k=n_components)"
   ]
  },
  {
   "cell_type": "markdown",
   "metadata": {},
   "source": [
    "## Model Evaluator"
   ]
  },
  {
   "cell_type": "code",
   "execution_count": null,
   "metadata": {},
   "outputs": [],
   "source": [
    "def evaluate_model(predictions, name):\n",
    "    # Initialize evaluator\n",
    "    evaluator = MulticlassClassificationEvaluator(\n",
    "        labelCol=\"label\", \n",
    "        predictionCol=\"prediction\"\n",
    "    )\n",
    "    \n",
    "    # Accuracy\n",
    "    evaluator.setMetricName(\"accuracy\")\n",
    "    accuracy = evaluator.evaluate(predictions)\n",
    "    \n",
    "    # Precision\n",
    "    evaluator.setMetricName(\"weightedPrecision\")\n",
    "    precision = evaluator.evaluate(predictions)\n",
    "    \n",
    "    # Recall\n",
    "    evaluator.setMetricName(\"weightedRecall\")\n",
    "    recall = evaluator.evaluate(predictions)\n",
    "    \n",
    "    # F1 score\n",
    "    evaluator.setMetricName(\"f1\")\n",
    "    f1 = evaluator.evaluate(predictions)\n",
    "    \n",
    "    print(f\"Model: {name}\")\n",
    "    print(f\"Accuracy: {accuracy:.4f}\")\n",
    "    print(f\"Precision: {precision:.4f}\")\n",
    "    print(f\"Recall: {recall:.4f}\")\n",
    "    print(f\"F1 Score: {f1:.4f}\")\n",
    "    print(\"-------------------------------------\")\n",
    "    \n",
    "    return accuracy, precision, recall, f1, predictions"
   ]
  },
  {
   "cell_type": "markdown",
   "metadata": {},
   "source": [
    "## Training models with PCA"
   ]
  },
  {
   "cell_type": "code",
   "execution_count": null,
   "metadata": {},
   "outputs": [
    {
     "name": "stdout",
     "output_type": "stream",
     "text": [
      "Training Logistic Regression model with PCA...\n"
     ]
    },
    {
     "name": "stderr",
     "output_type": "stream",
     "text": [
      "[Stage 526:===================================================>   (13 + 1) / 14]\r"
     ]
    },
    {
     "name": "stdout",
     "output_type": "stream",
     "text": [
      "Model: Logistic Regression with PCA\n",
      "Accuracy: 0.7171\n",
      "Precision: 0.6655\n",
      "Recall: 0.7171\n",
      "F1 Score: 0.5989\n",
      "-------------------------------------\n"
     ]
    },
    {
     "name": "stderr",
     "output_type": "stream",
     "text": [
      "                                                                                \r"
     ]
    }
   ],
   "source": [
    "print(\"Training Logistic Regression model with PCA...\")\n",
    "lr = LogisticRegression(featuresCol=\"pca_features\", labelCol=\"label\", maxIter=10, regParam=0.1)\n",
    "lr_pipeline = Pipeline(stages=[label_indexer, pca, lr])\n",
    "lr_model = lr_pipeline.fit(train_data)\n",
    "lr_predictions = lr_model.transform(test_data)\n",
    "lr_metrics = evaluate_model(lr_predictions, \"Logistic Regression with PCA\")"
   ]
  },
  {
   "cell_type": "code",
   "execution_count": null,
   "metadata": {},
   "outputs": [
    {
     "name": "stdout",
     "output_type": "stream",
     "text": [
      "Training Random Forest model with PCA...\n"
     ]
    },
    {
     "name": "stderr",
     "output_type": "stream",
     "text": [
      "25/04/11 11:37:51 WARN DAGScheduler: Broadcasting large task binary with size 1227.6 KiB\n",
      "25/04/11 11:37:59 WARN DAGScheduler: Broadcasting large task binary with size 2.1 MiB\n",
      "25/04/11 11:38:09 WARN DAGScheduler: Broadcasting large task binary with size 3.8 MiB\n",
      "25/04/11 11:38:22 WARN DAGScheduler: Broadcasting large task binary with size 1100.5 KiB\n",
      "25/04/11 11:38:23 WARN DAGScheduler: Broadcasting large task binary with size 2.1 MiB\n",
      "25/04/11 11:38:56 WARN DAGScheduler: Broadcasting large task binary with size 2.1 MiB\n",
      "25/04/11 11:39:27 WARN DAGScheduler: Broadcasting large task binary with size 2.1 MiB\n",
      "25/04/11 11:39:59 WARN DAGScheduler: Broadcasting large task binary with size 2.1 MiB\n",
      "[Stage 569:===================================================>   (13 + 1) / 14]\r"
     ]
    },
    {
     "name": "stdout",
     "output_type": "stream",
     "text": [
      "Model: Random Forest with PCA\n",
      "Accuracy: 0.7175\n",
      "Precision: 0.6847\n",
      "Recall: 0.7175\n",
      "F1 Score: 0.6004\n",
      "-------------------------------------\n"
     ]
    },
    {
     "name": "stderr",
     "output_type": "stream",
     "text": [
      "                                                                                \r"
     ]
    }
   ],
   "source": [
    "print(\"Training Random Forest model with PCA...\")\n",
    "rf = RandomForestClassifier(featuresCol=\"pca_features\", labelCol=\"label\", numTrees=20, maxDepth=10)\n",
    "rf_pipeline = Pipeline(stages=[label_indexer, pca, rf])\n",
    "rf_model = rf_pipeline.fit(train_data)\n",
    "rf_predictions = rf_model.transform(test_data)\n",
    "rf_metrics = evaluate_model(rf_predictions, \"Random Forest with PCA\")"
   ]
  },
  {
   "cell_type": "code",
   "execution_count": null,
   "metadata": {},
   "outputs": [
    {
     "name": "stderr",
     "output_type": "stream",
     "text": [
      "                                                                                \r"
     ]
    }
   ],
   "source": [
    "from pyspark.ml.classification import MultilayerPerceptronClassifier\n",
    "from pyspark.ml.feature import VectorIndexer\n",
    "\n",
    "num_features = len(df_fe.select(feature_col).first()[0])\n",
    "num_classes = df_fe.select(\"Severity\").distinct().count()\n",
    "\n",
    "layers = [n_components, 32, num_classes]\n",
    "# mlp = MultilayerPerceptronClassifier(\n",
    "#     featuresCol=feature_col,\n",
    "#     labelCol=\"label\",\n",
    "#     layers=layers,\n",
    "#     blockSize=128,\n",
    "#     seed=42,\n",
    "#     maxIter=100\n",
    "# )\n",
    "mlp = MultilayerPerceptronClassifier(\n",
    "    featuresCol=\"pca_features\",  # Use PCA features\n",
    "    labelCol=\"label\",\n",
    "    layers=layers,\n",
    "    blockSize=64,  # Smaller batch size\n",
    "    seed=42,\n",
    "    maxIter=20,    # Fewer iterations\n",
    "    tol=1e-4       # Less strict convergence\n",
    ")\n",
    "\n",
    "# mlp_pipeline = Pipeline(stages=[label_indexer, mlp])"
   ]
  },
  {
   "cell_type": "code",
   "execution_count": null,
   "metadata": {},
   "outputs": [
    {
     "name": "stdout",
     "output_type": "stream",
     "text": [
      "Training Multilayer Perceptron model...\n"
     ]
    },
    {
     "name": "stderr",
     "output_type": "stream",
     "text": [
      "[Stage 619:===================================================>   (13 + 1) / 14]\r"
     ]
    },
    {
     "name": "stdout",
     "output_type": "stream",
     "text": [
      "Model: Multilayer Perceptron with PCA\n",
      "Accuracy: 0.7171\n",
      "Precision: 0.5142\n",
      "Recall: 0.7171\n",
      "F1 Score: 0.5989\n",
      "-------------------------------------\n"
     ]
    },
    {
     "name": "stderr",
     "output_type": "stream",
     "text": [
      "                                                                                \r"
     ]
    }
   ],
   "source": [
    "# print(\"Training Gradient Boosted Trees model with PCA...\")\n",
    "# gbt = GBTClassifier(featuresCol=\"pca_features\", labelCol=\"label\", maxIter=10, maxDepth=5)\n",
    "# gbt_pipeline = Pipeline(stages=[label_indexer, pca, gbt])\n",
    "# gbt_model = gbt_pipeline.fit(train_data)\n",
    "# gbt_predictions = gbt_model.transform(test_data)\n",
    "# gbt_metrics = evaluate_model(gbt_predictions, \"Gradient Boosted Trees with PCA\")\n",
    "\n",
    "print(\"Training Multilayer Perceptron model...\")\n",
    "\n",
    "\n",
    "mlp_pipeline = Pipeline(stages=[pca, label_indexer, mlp])\n",
    "mlp_model = mlp_pipeline.fit(train_data)\n",
    "mlp_predictions = mlp_model.transform(test_data)\n",
    "mlp_metrics = evaluate_model(mlp_predictions, \"Multilayer Perceptron with PCA\")\n"
   ]
  },
  {
   "cell_type": "markdown",
   "metadata": {},
   "source": [
    "### Best Model"
   ]
  },
  {
   "cell_type": "code",
   "execution_count": null,
   "metadata": {},
   "outputs": [
    {
     "name": "stdout",
     "output_type": "stream",
     "text": [
      "Best model: Random Forest with F1 score: 0.6004\n"
     ]
    }
   ],
   "source": [
    "models = [(\"Logistic Regression\", lr_model, lr_metrics), \n",
    "          (\"Random Forest\", rf_model, rf_metrics), \n",
    "          (\"Multilayer Perceptron\", mlp_model, mlp_metrics)]\n",
    "\n",
    "best_model_name, best_model, best_metrics = max(models, key=lambda x: x[2][3])\n",
    "best_predictions = best_metrics[4]\n",
    "print(f\"Best model: {best_model_name} with F1 score: {best_metrics[3]:.4f}\")"
   ]
  },
  {
   "cell_type": "code",
   "execution_count": null,
   "metadata": {},
   "outputs": [
    {
     "name": "stderr",
     "output_type": "stream",
     "text": [
      "                                                                                \r"
     ]
    },
    {
     "name": "stdout",
     "output_type": "stream",
     "text": [
      "Confusion Matrix:\n"
     ]
    },
    {
     "name": "stderr",
     "output_type": "stream",
     "text": [
      "25/04/11 11:58:04 WARN DAGScheduler: Broadcasting large task binary with size 2.1 MiB\n",
      "25/04/11 11:58:36 WARN DAGScheduler: Broadcasting large task binary with size 2.1 MiB\n",
      "25/04/11 11:58:36 WARN DAGScheduler: Broadcasting large task binary with size 2.1 MiB\n",
      "                                                                                \r"
     ]
    },
    {
     "name": "stdout",
     "output_type": "stream",
     "text": [
      "+----------+------+------+-----+----+\n",
      "|prediction|   0.0|   1.0|  2.0| 3.0|\n",
      "+----------+------+------+-----+----+\n",
      "|       0.0|650586|234797|13465|7848|\n",
      "|       1.0|   272|   641|   55|   9|\n",
      "+----------+------+------+-----+----+\n",
      "\n"
     ]
    }
   ],
   "source": [
    "pred_and_labels = best_predictions.select(\"prediction\", \"label\")\n",
    "confusion_matrix = pred_and_labels.groupBy(\"prediction\").pivot(\"label\").count().fillna(0)\n",
    "print(\"Confusion Matrix:\")\n",
    "confusion_matrix.show()"
   ]
  },
  {
   "cell_type": "markdown",
   "metadata": {},
   "source": [
    "### PCA components explained variance"
   ]
  },
  {
   "cell_type": "code",
   "execution_count": null,
   "metadata": {},
   "outputs": [
    {
     "name": "stdout",
     "output_type": "stream",
     "text": [
      "Explained variance by components:\n",
      "PC 1: 0.4110\n",
      "PC 2: 0.2957\n",
      "PC 3: 0.2032\n",
      "PC 4: 0.0272\n",
      "PC 5: 0.0202\n",
      "PC 6: 0.0135\n",
      "PC 7: 0.0115\n",
      "PC 8: 0.0063\n",
      "PC 9: 0.0032\n",
      "PC 10: 0.0021\n",
      "Total variance explained: 0.9939\n"
     ]
    }
   ],
   "source": [
    "pca_model = lr_model.stages[1] \n",
    "variance = pca_model.explainedVariance\n",
    "print(\"Explained variance by components:\")\n",
    "for i, v in enumerate(variance):\n",
    "    print(f\"PC {i+1}: {v:.4f}\")\n",
    "print(f\"Total variance explained: {sum(variance):.4f}\")"
   ]
  },
  {
   "cell_type": "markdown",
   "metadata": {},
   "source": [
    "## Training w/o PCA"
   ]
  },
  {
   "cell_type": "code",
   "execution_count": null,
   "metadata": {},
   "outputs": [
    {
     "name": "stdout",
     "output_type": "stream",
     "text": [
      "Training Logistic Regression model...\n"
     ]
    },
    {
     "name": "stderr",
     "output_type": "stream",
     "text": [
      "[Stage 668:===================================================>   (13 + 1) / 14]\r"
     ]
    },
    {
     "name": "stdout",
     "output_type": "stream",
     "text": [
      "Model: Logistic Regression without PCA\n",
      "Accuracy: 1.0000\n",
      "Precision: 1.0000\n",
      "Recall: 1.0000\n",
      "F1 Score: 1.0000\n",
      "-------------------------------------\n"
     ]
    },
    {
     "name": "stderr",
     "output_type": "stream",
     "text": [
      "                                                                                \r"
     ]
    }
   ],
   "source": [
    "print(\"Training Logistic Regression model...\")\n",
    "lr = LogisticRegression(featuresCol=feature_col, labelCol=\"label\", maxIter=10, regParam=0.1)\n",
    "lr_pipeline = Pipeline(stages=[label_indexer, lr])\n",
    "lr_model = lr_pipeline.fit(train_data)\n",
    "lr_predictions = lr_model.transform(test_data)\n",
    "lr_metrics = evaluate_model(lr_predictions, \"Logistic Regression without PCA\")"
   ]
  },
  {
   "cell_type": "code",
   "execution_count": null,
   "metadata": {},
   "outputs": [
    {
     "name": "stdout",
     "output_type": "stream",
     "text": [
      "Training Random Forest model...\n"
     ]
    },
    {
     "name": "stderr",
     "output_type": "stream",
     "text": [
      "25/04/11 12:09:23 WARN MemoryStore: Not enough space to cache rdd_1950_0 in memory! (computed 147.0 MiB so far)\n",
      "25/04/11 12:09:23 WARN BlockManager: Persisting block rdd_1950_0 to disk instead.\n",
      "25/04/11 12:09:23 WARN MemoryStore: Not enough space to cache rdd_1950_1 in memory! (computed 98.0 MiB so far)\n",
      "25/04/11 12:09:23 WARN BlockManager: Persisting block rdd_1950_1 to disk instead.\n",
      "25/04/11 12:09:23 WARN MemoryStore: Not enough space to cache rdd_1950_2 in memory! (computed 147.0 MiB so far)\n",
      "25/04/11 12:09:23 WARN BlockManager: Persisting block rdd_1950_2 to disk instead.\n",
      "25/04/11 12:09:23 WARN MemoryStore: Not enough space to cache rdd_1950_4 in memory! (computed 147.0 MiB so far)\n",
      "25/04/11 12:09:23 WARN BlockManager: Persisting block rdd_1950_4 to disk instead.\n",
      "25/04/11 12:09:23 WARN MemoryStore: Not enough space to cache rdd_1950_3 in memory! (computed 147.0 MiB so far)\n",
      "25/04/11 12:09:23 WARN BlockManager: Persisting block rdd_1950_3 to disk instead.\n",
      "25/04/11 12:09:46 WARN MemoryStore: Not enough space to cache rdd_1950_6 in memory! (computed 147.0 MiB so far)\n",
      "25/04/11 12:09:46 WARN BlockManager: Persisting block rdd_1950_6 to disk instead.\n",
      "25/04/11 12:09:46 WARN MemoryStore: Not enough space to cache rdd_1950_8 in memory! (computed 147.0 MiB so far)\n",
      "25/04/11 12:09:46 WARN BlockManager: Persisting block rdd_1950_8 to disk instead.\n",
      "25/04/11 12:09:46 WARN MemoryStore: Not enough space to cache rdd_1950_11 in memory! (computed 147.0 MiB so far)\n",
      "25/04/11 12:09:46 WARN BlockManager: Persisting block rdd_1950_11 to disk instead.\n",
      "25/04/11 12:09:46 WARN MemoryStore: Not enough space to cache rdd_1950_9 in memory! (computed 147.0 MiB so far)\n",
      "25/04/11 12:09:46 WARN BlockManager: Persisting block rdd_1950_9 to disk instead.\n",
      "25/04/11 12:09:47 WARN MemoryStore: Not enough space to cache rdd_1950_7 in memory! (computed 342.9 MiB so far)\n",
      "25/04/11 12:09:47 WARN BlockManager: Persisting block rdd_1950_7 to disk instead.\n",
      "25/04/11 12:09:49 WARN MemoryStore: Not enough space to cache rdd_1950_8 in memory! (computed 342.9 MiB so far)\n",
      "25/04/11 12:09:49 WARN MemoryStore: Not enough space to cache rdd_1950_9 in memory! (computed 342.9 MiB so far)\n",
      "25/04/11 12:09:49 WARN MemoryStore: Not enough space to cache rdd_1950_6 in memory! (computed 147.0 MiB so far)\n",
      "25/04/11 12:10:03 WARN MemoryStore: Not enough space to cache rdd_1950_12 in memory! (computed 221.1 MiB so far)\n",
      "25/04/11 12:10:03 WARN BlockManager: Persisting block rdd_1950_12 to disk instead.\n",
      "25/04/11 12:10:16 WARN MemoryStore: Not enough space to cache rdd_1950_6 in memory! (computed 147.0 MiB so far)\n",
      "25/04/11 12:10:16 WARN MemoryStore: Not enough space to cache rdd_1950_9 in memory! (computed 12.1 MiB so far)\n",
      "25/04/11 12:10:16 WARN MemoryStore: Not enough space to cache rdd_1950_8 in memory! (computed 65.3 MiB so far)\n",
      "25/04/11 12:10:32 WARN MemoryStore: Not enough space to cache rdd_1950_6 in memory! (computed 221.1 MiB so far)\n",
      "25/04/11 12:10:32 WARN MemoryStore: Not enough space to cache rdd_1950_8 in memory! (computed 2.4 MiB so far)\n",
      "25/04/11 12:10:32 WARN MemoryStore: Not enough space to cache rdd_1950_9 in memory! (computed 2.4 MiB so far)\n",
      "25/04/11 12:10:48 WARN MemoryStore: Not enough space to cache rdd_1950_9 in memory! (computed 18.2 MiB so far)\n",
      "25/04/11 12:10:49 WARN MemoryStore: Not enough space to cache rdd_1950_8 in memory! (computed 98.0 MiB so far)\n",
      "25/04/11 12:10:49 WARN MemoryStore: Not enough space to cache rdd_1950_6 in memory! (computed 98.0 MiB so far)\n",
      "25/04/11 12:11:03 WARN MemoryStore: Not enough space to cache rdd_1950_8 in memory! (computed 65.3 MiB so far)\n",
      "25/04/11 12:11:03 WARN MemoryStore: Not enough space to cache rdd_1950_6 in memory! (computed 147.0 MiB so far)\n",
      "25/04/11 12:11:03 WARN MemoryStore: Not enough space to cache rdd_1950_9 in memory! (computed 12.1 MiB so far)\n",
      "25/04/11 12:11:18 WARN MemoryStore: Not enough space to cache rdd_1950_8 in memory! (computed 2.4 MiB so far)\n",
      "25/04/11 12:11:18 WARN MemoryStore: Failed to reserve initial memory threshold of 1024.0 KiB for computing block rdd_1950_9 in memory.\n",
      "25/04/11 12:11:18 WARN MemoryStore: Not enough space to cache rdd_1950_9 in memory! (computed 384.0 B so far)\n",
      "25/04/11 12:11:18 WARN MemoryStore: Not enough space to cache rdd_1950_6 in memory! (computed 221.1 MiB so far)\n",
      "25/04/11 12:11:32 WARN MemoryStore: Not enough space to cache rdd_1950_6 in memory! (computed 221.1 MiB so far)\n",
      "25/04/11 12:11:32 WARN MemoryStore: Not enough space to cache rdd_1950_8 in memory! (computed 2.4 MiB so far)\n",
      "25/04/11 12:11:32 WARN MemoryStore: Not enough space to cache rdd_1950_9 in memory! (computed 2.4 MiB so far)\n",
      "25/04/11 12:11:45 WARN MemoryStore: Not enough space to cache rdd_1950_9 in memory! (computed 27.6 MiB so far)\n",
      "25/04/11 12:11:45 WARN MemoryStore: Not enough space to cache rdd_1950_6 in memory! (computed 147.0 MiB so far)\n",
      "25/04/11 12:11:45 WARN MemoryStore: Not enough space to cache rdd_1950_8 in memory! (computed 42.9 MiB so far)\n",
      "25/04/11 12:11:54 WARN DAGScheduler: Broadcasting large task binary with size 1173.9 KiB\n",
      "25/04/11 12:11:58 WARN MemoryStore: Not enough space to cache rdd_1950_8 in memory! (computed 65.3 MiB so far)\n",
      "25/04/11 12:11:58 WARN MemoryStore: Not enough space to cache rdd_1950_6 in memory! (computed 147.0 MiB so far)\n",
      "25/04/11 12:11:59 WARN MemoryStore: Not enough space to cache rdd_1950_9 in memory! (computed 8.1 MiB so far)\n",
      "25/04/11 12:12:07 WARN DAGScheduler: Broadcasting large task binary with size 1703.2 KiB\n",
      "25/04/11 12:12:11 WARN MemoryStore: Not enough space to cache rdd_1950_8 in memory! (computed 65.3 MiB so far)\n",
      "25/04/11 12:12:11 WARN MemoryStore: Not enough space to cache rdd_1950_6 in memory! (computed 147.0 MiB so far)\n",
      "25/04/11 12:12:12 WARN MemoryStore: Not enough space to cache rdd_1950_9 in memory! (computed 12.1 MiB so far)\n",
      "25/04/11 12:12:20 WARN DAGScheduler: Broadcasting large task binary with size 1149.8 KiB\n",
      "25/04/11 12:12:53 WARN DAGScheduler: Broadcasting large task binary with size 1149.8 KiB\n",
      "25/04/11 12:13:24 WARN DAGScheduler: Broadcasting large task binary with size 1149.8 KiB\n",
      "25/04/11 12:13:56 WARN DAGScheduler: Broadcasting large task binary with size 1149.8 KiB\n",
      "[Stage 703:===================================================>   (13 + 1) / 14]\r"
     ]
    },
    {
     "name": "stdout",
     "output_type": "stream",
     "text": [
      "Model: Random Forest without PCA\n",
      "Accuracy: 0.9999\n",
      "Precision: 0.9999\n",
      "Recall: 0.9999\n",
      "F1 Score: 0.9999\n",
      "-------------------------------------\n"
     ]
    },
    {
     "name": "stderr",
     "output_type": "stream",
     "text": [
      "                                                                                \r"
     ]
    }
   ],
   "source": [
    "print(\"Training Random Forest model...\")\n",
    "rf = RandomForestClassifier(featuresCol=feature_col, labelCol=\"label\", numTrees=20, maxDepth=10)\n",
    "rf_pipeline = Pipeline(stages=[label_indexer, rf])\n",
    "rf_model = rf_pipeline.fit(train_data)\n",
    "rf_predictions = rf_model.transform(test_data)\n",
    "rf_metrics = evaluate_model(rf_predictions, \"Random Forest without PCA\")"
   ]
  },
  {
   "cell_type": "code",
   "execution_count": null,
   "metadata": {},
   "outputs": [
    {
     "name": "stdout",
     "output_type": "stream",
     "text": [
      "Training Multilayer Perceptron model...\n"
     ]
    },
    {
     "name": "stderr",
     "output_type": "stream",
     "text": [
      "25/04/11 12:15:13 WARN MemoryStore: Not enough space to cache rdd_2116_3 in memory! (computed 29.8 MiB so far)\n",
      "25/04/11 12:15:13 WARN BlockManager: Persisting block rdd_2116_3 to disk instead.\n",
      "25/04/11 12:15:13 WARN MemoryStore: Not enough space to cache rdd_2116_5 in memory! (computed 166.2 MiB so far)\n",
      "25/04/11 12:15:13 WARN BlockManager: Persisting block rdd_2116_5 to disk instead.\n",
      "25/04/11 12:15:13 WARN MemoryStore: Not enough space to cache rdd_2116_2 in memory! (computed 166.2 MiB so far)\n",
      "25/04/11 12:15:13 WARN BlockManager: Persisting block rdd_2116_2 to disk instead.\n",
      "25/04/11 12:15:13 WARN MemoryStore: Not enough space to cache rdd_2116_0 in memory! (computed 250.8 MiB so far)\n",
      "25/04/11 12:15:13 WARN BlockManager: Persisting block rdd_2116_0 to disk instead.\n",
      "25/04/11 12:15:13 WARN MemoryStore: Not enough space to cache rdd_2116_4 in memory! (computed 166.2 MiB so far)\n",
      "25/04/11 12:15:13 WARN BlockManager: Persisting block rdd_2116_4 to disk instead.\n",
      "25/04/11 12:15:13 WARN MemoryStore: Not enough space to cache rdd_2116_1 in memory! (computed 166.2 MiB so far)\n",
      "25/04/11 12:15:13 WARN BlockManager: Persisting block rdd_2116_1 to disk instead.\n",
      "25/04/11 12:15:16 WARN MemoryStore: Not enough space to cache rdd_2116_2 in memory! (computed 378.5 MiB so far)\n",
      "25/04/11 12:15:28 WARN MemoryStore: Not enough space to cache rdd_2116_6 in memory! (computed 580.3 MiB so far)\n",
      "25/04/11 12:15:28 WARN BlockManager: Persisting block rdd_2116_6 to disk instead.\n",
      "25/04/11 12:15:28 WARN MemoryStore: Not enough space to cache rdd_2116_10 in memory! (computed 110.5 MiB so far)\n",
      "25/04/11 12:15:28 WARN BlockManager: Persisting block rdd_2116_10 to disk instead.\n",
      "25/04/11 12:15:28 WARN MemoryStore: Not enough space to cache rdd_2116_8 in memory! (computed 72.0 MiB so far)\n",
      "25/04/11 12:15:28 WARN BlockManager: Persisting block rdd_2116_8 to disk instead.\n",
      "25/04/11 12:15:30 WARN MemoryStore: Not enough space to cache rdd_2116_6 in memory! (computed 378.5 MiB so far)\n",
      "25/04/11 12:15:30 WARN MemoryStore: Not enough space to cache rdd_2116_9 in memory! (computed 378.5 MiB so far)\n",
      "25/04/11 12:15:30 WARN BlockManager: Persisting block rdd_2116_9 to disk instead.\n",
      "25/04/11 12:15:31 WARN MemoryStore: Not enough space to cache rdd_2116_10 in memory! (computed 250.8 MiB so far)\n",
      "25/04/11 12:15:32 WARN MemoryStore: Not enough space to cache rdd_2116_9 in memory! (computed 378.5 MiB so far)\n",
      "25/04/11 12:15:38 WARN MemoryStore: Not enough space to cache rdd_2116_12 in memory! (computed 250.8 MiB so far)\n",
      "25/04/11 12:15:38 WARN BlockManager: Persisting block rdd_2116_12 to disk instead.\n",
      "25/04/11 12:15:39 WARN MemoryStore: Not enough space to cache rdd_2116_4 in memory! (computed 166.2 MiB so far)\n",
      "25/04/11 12:15:39 WARN MemoryStore: Not enough space to cache rdd_2116_2 in memory! (computed 72.0 MiB so far)\n",
      "25/04/11 12:15:39 WARN MemoryStore: Not enough space to cache rdd_2116_0 in memory! (computed 166.2 MiB so far)\n",
      "25/04/11 12:15:39 WARN MemoryStore: Not enough space to cache rdd_2116_3 in memory! (computed 166.2 MiB so far)\n",
      "25/04/11 12:15:39 WARN MemoryStore: Not enough space to cache rdd_2116_5 in memory! (computed 166.2 MiB so far)\n",
      "25/04/11 12:15:47 WARN MemoryStore: Not enough space to cache rdd_2116_10 in memory! (computed 110.5 MiB so far)\n",
      "25/04/11 12:15:47 WARN MemoryStore: Not enough space to cache rdd_2116_6 in memory! (computed 378.5 MiB so far)\n",
      "25/04/11 12:15:47 WARN MemoryStore: Not enough space to cache rdd_2116_9 in memory! (computed 250.8 MiB so far)\n",
      "25/04/11 12:16:00 WARN MemoryStore: Not enough space to cache rdd_2116_4 in memory! (computed 110.5 MiB so far)\n",
      "25/04/11 12:16:00 WARN MemoryStore: Not enough space to cache rdd_2116_3 in memory! (computed 110.5 MiB so far)\n",
      "25/04/11 12:16:00 WARN MemoryStore: Not enough space to cache rdd_2116_5 in memory! (computed 166.2 MiB so far)\n",
      "25/04/11 12:16:00 WARN MemoryStore: Not enough space to cache rdd_2116_0 in memory! (computed 166.2 MiB so far)\n",
      "25/04/11 12:16:00 WARN MemoryStore: Not enough space to cache rdd_2116_2 in memory! (computed 166.2 MiB so far)\n",
      "25/04/11 12:16:08 WARN MemoryStore: Not enough space to cache rdd_2116_6 in memory! (computed 580.3 MiB so far)\n",
      "25/04/11 12:16:08 WARN MemoryStore: Not enough space to cache rdd_2116_9 in memory! (computed 110.5 MiB so far)\n",
      "25/04/11 12:16:08 WARN MemoryStore: Not enough space to cache rdd_2116_10 in memory! (computed 72.0 MiB so far)\n",
      "25/04/11 12:16:20 WARN MemoryStore: Not enough space to cache rdd_2116_3 in memory! (computed 110.5 MiB so far)\n",
      "25/04/11 12:16:20 WARN MemoryStore: Not enough space to cache rdd_2116_0 in memory! (computed 110.5 MiB so far)\n",
      "25/04/11 12:16:20 WARN MemoryStore: Not enough space to cache rdd_2116_2 in memory! (computed 166.2 MiB so far)\n",
      "25/04/11 12:16:20 WARN MemoryStore: Not enough space to cache rdd_2116_4 in memory! (computed 166.2 MiB so far)\n",
      "25/04/11 12:16:20 WARN MemoryStore: Not enough space to cache rdd_2116_5 in memory! (computed 166.2 MiB so far)\n",
      "25/04/11 12:16:28 WARN MemoryStore: Not enough space to cache rdd_2116_10 in memory! (computed 110.5 MiB so far)\n",
      "25/04/11 12:16:28 WARN MemoryStore: Not enough space to cache rdd_2116_9 in memory! (computed 250.8 MiB so far)\n",
      "25/04/11 12:16:28 WARN MemoryStore: Not enough space to cache rdd_2116_6 in memory! (computed 378.5 MiB so far)\n",
      "25/04/11 12:16:41 WARN MemoryStore: Not enough space to cache rdd_2116_5 in memory! (computed 110.5 MiB so far)\n",
      "25/04/11 12:16:41 WARN MemoryStore: Not enough space to cache rdd_2116_2 in memory! (computed 110.5 MiB so far)\n",
      "25/04/11 12:16:41 WARN MemoryStore: Not enough space to cache rdd_2116_4 in memory! (computed 166.2 MiB so far)\n",
      "25/04/11 12:16:41 WARN MemoryStore: Not enough space to cache rdd_2116_0 in memory! (computed 166.2 MiB so far)\n",
      "25/04/11 12:16:41 WARN MemoryStore: Not enough space to cache rdd_2116_3 in memory! (computed 166.2 MiB so far)\n",
      "25/04/11 12:16:48 WARN MemoryStore: Not enough space to cache rdd_2116_6 in memory! (computed 580.3 MiB so far)\n",
      "25/04/11 12:16:48 WARN MemoryStore: Not enough space to cache rdd_2116_10 in memory! (computed 8.7 MiB so far)\n",
      "25/04/11 12:16:48 WARN MemoryStore: Not enough space to cache rdd_2116_9 in memory! (computed 166.2 MiB so far)\n",
      "25/04/11 12:17:01 WARN MemoryStore: Not enough space to cache rdd_2116_4 in memory! (computed 110.5 MiB so far)\n",
      "25/04/11 12:17:01 WARN MemoryStore: Not enough space to cache rdd_2116_2 in memory! (computed 110.5 MiB so far)\n",
      "25/04/11 12:17:01 WARN MemoryStore: Not enough space to cache rdd_2116_5 in memory! (computed 166.2 MiB so far)\n",
      "25/04/11 12:17:01 WARN MemoryStore: Not enough space to cache rdd_2116_3 in memory! (computed 166.2 MiB so far)\n",
      "25/04/11 12:17:01 WARN MemoryStore: Not enough space to cache rdd_2116_0 in memory! (computed 166.2 MiB so far)\n",
      "25/04/11 12:17:09 WARN MemoryStore: Not enough space to cache rdd_2116_9 in memory! (computed 166.2 MiB so far)\n",
      "25/04/11 12:17:09 WARN MemoryStore: Not enough space to cache rdd_2116_6 in memory! (computed 580.3 MiB so far)\n",
      "25/04/11 12:17:09 WARN MemoryStore: Not enough space to cache rdd_2116_10 in memory! (computed 8.7 MiB so far)\n",
      "25/04/11 12:17:22 WARN MemoryStore: Not enough space to cache rdd_2116_0 in memory! (computed 110.5 MiB so far)\n",
      "25/04/11 12:17:22 WARN MemoryStore: Not enough space to cache rdd_2116_3 in memory! (computed 110.5 MiB so far)\n",
      "25/04/11 12:17:22 WARN MemoryStore: Not enough space to cache rdd_2116_4 in memory! (computed 166.2 MiB so far)\n",
      "25/04/11 12:17:22 WARN MemoryStore: Not enough space to cache rdd_2116_5 in memory! (computed 166.2 MiB so far)\n",
      "25/04/11 12:17:22 WARN MemoryStore: Not enough space to cache rdd_2116_2 in memory! (computed 166.2 MiB so far)\n",
      "25/04/11 12:17:29 WARN MemoryStore: Not enough space to cache rdd_2116_10 in memory! (computed 8.7 MiB so far)\n",
      "25/04/11 12:17:29 WARN MemoryStore: Not enough space to cache rdd_2116_9 in memory! (computed 166.2 MiB so far)\n",
      "25/04/11 12:17:29 WARN MemoryStore: Not enough space to cache rdd_2116_6 in memory! (computed 580.3 MiB so far)\n",
      "25/04/11 12:17:42 WARN MemoryStore: Not enough space to cache rdd_2116_4 in memory! (computed 110.5 MiB so far)\n",
      "25/04/11 12:17:42 WARN MemoryStore: Not enough space to cache rdd_2116_2 in memory! (computed 110.5 MiB so far)\n",
      "25/04/11 12:17:42 WARN MemoryStore: Not enough space to cache rdd_2116_0 in memory! (computed 166.2 MiB so far)\n",
      "25/04/11 12:17:42 WARN MemoryStore: Not enough space to cache rdd_2116_5 in memory! (computed 166.2 MiB so far)\n",
      "25/04/11 12:17:42 WARN MemoryStore: Not enough space to cache rdd_2116_3 in memory! (computed 166.2 MiB so far)\n",
      "25/04/11 12:17:50 WARN MemoryStore: Not enough space to cache rdd_2116_9 in memory! (computed 110.5 MiB so far)\n",
      "25/04/11 12:17:50 WARN MemoryStore: Not enough space to cache rdd_2116_10 in memory! (computed 72.0 MiB so far)\n",
      "25/04/11 12:17:50 WARN MemoryStore: Not enough space to cache rdd_2116_6 in memory! (computed 580.3 MiB so far)\n",
      "25/04/11 12:18:02 WARN MemoryStore: Not enough space to cache rdd_2116_2 in memory! (computed 110.5 MiB so far)\n",
      "25/04/11 12:18:02 WARN MemoryStore: Not enough space to cache rdd_2116_5 in memory! (computed 110.5 MiB so far)\n",
      "25/04/11 12:18:02 WARN MemoryStore: Not enough space to cache rdd_2116_4 in memory! (computed 166.2 MiB so far)\n",
      "25/04/11 12:18:02 WARN MemoryStore: Not enough space to cache rdd_2116_0 in memory! (computed 166.2 MiB so far)\n",
      "25/04/11 12:18:02 WARN MemoryStore: Not enough space to cache rdd_2116_3 in memory! (computed 166.2 MiB so far)\n",
      "25/04/11 12:18:10 WARN MemoryStore: Not enough space to cache rdd_2116_6 in memory! (computed 580.3 MiB so far)\n",
      "25/04/11 12:18:10 WARN MemoryStore: Not enough space to cache rdd_2116_9 in memory! (computed 166.2 MiB so far)\n",
      "25/04/11 12:18:10 WARN MemoryStore: Not enough space to cache rdd_2116_10 in memory! (computed 8.7 MiB so far)\n",
      "25/04/11 12:18:23 WARN MemoryStore: Not enough space to cache rdd_2116_5 in memory! (computed 110.5 MiB so far)\n",
      "25/04/11 12:18:23 WARN MemoryStore: Not enough space to cache rdd_2116_2 in memory! (computed 110.5 MiB so far)\n",
      "25/04/11 12:18:23 WARN MemoryStore: Not enough space to cache rdd_2116_4 in memory! (computed 166.2 MiB so far)\n",
      "25/04/11 12:18:23 WARN MemoryStore: Not enough space to cache rdd_2116_3 in memory! (computed 166.2 MiB so far)\n",
      "25/04/11 12:18:23 WARN MemoryStore: Not enough space to cache rdd_2116_0 in memory! (computed 166.2 MiB so far)\n",
      "25/04/11 12:18:30 WARN MemoryStore: Not enough space to cache rdd_2116_9 in memory! (computed 166.2 MiB so far)\n",
      "25/04/11 12:18:30 WARN MemoryStore: Not enough space to cache rdd_2116_6 in memory! (computed 580.3 MiB so far)\n",
      "25/04/11 12:18:30 WARN MemoryStore: Not enough space to cache rdd_2116_10 in memory! (computed 8.7 MiB so far)\n",
      "25/04/11 12:18:43 WARN MemoryStore: Not enough space to cache rdd_2116_0 in memory! (computed 110.5 MiB so far)\n",
      "25/04/11 12:18:43 WARN MemoryStore: Not enough space to cache rdd_2116_2 in memory! (computed 110.5 MiB so far)\n",
      "25/04/11 12:18:43 WARN MemoryStore: Not enough space to cache rdd_2116_3 in memory! (computed 166.2 MiB so far)\n",
      "25/04/11 12:18:43 WARN MemoryStore: Not enough space to cache rdd_2116_4 in memory! (computed 166.2 MiB so far)\n",
      "25/04/11 12:18:43 WARN MemoryStore: Not enough space to cache rdd_2116_5 in memory! (computed 166.2 MiB so far)\n",
      "25/04/11 12:18:51 WARN MemoryStore: Not enough space to cache rdd_2116_10 in memory! (computed 8.7 MiB so far)\n",
      "25/04/11 12:18:51 WARN MemoryStore: Not enough space to cache rdd_2116_6 in memory! (computed 580.3 MiB so far)\n",
      "25/04/11 12:18:51 WARN MemoryStore: Not enough space to cache rdd_2116_9 in memory! (computed 166.2 MiB so far)\n",
      "25/04/11 12:19:03 WARN MemoryStore: Not enough space to cache rdd_2116_0 in memory! (computed 110.5 MiB so far)\n",
      "25/04/11 12:19:03 WARN MemoryStore: Not enough space to cache rdd_2116_4 in memory! (computed 166.2 MiB so far)\n",
      "25/04/11 12:19:03 WARN MemoryStore: Not enough space to cache rdd_2116_5 in memory! (computed 166.2 MiB so far)\n",
      "25/04/11 12:19:03 WARN MemoryStore: Not enough space to cache rdd_2116_3 in memory! (computed 166.2 MiB so far)\n",
      "25/04/11 12:19:03 WARN MemoryStore: Not enough space to cache rdd_2116_2 in memory! (computed 110.5 MiB so far)\n",
      "25/04/11 12:19:11 WARN MemoryStore: Not enough space to cache rdd_2116_6 in memory! (computed 580.3 MiB so far)\n",
      "25/04/11 12:19:11 WARN MemoryStore: Not enough space to cache rdd_2116_9 in memory! (computed 166.2 MiB so far)\n",
      "25/04/11 12:19:11 WARN MemoryStore: Not enough space to cache rdd_2116_10 in memory! (computed 8.7 MiB so far)\n",
      "25/04/11 12:19:24 WARN MemoryStore: Not enough space to cache rdd_2116_2 in memory! (computed 110.5 MiB so far)\n",
      "25/04/11 12:19:24 WARN MemoryStore: Not enough space to cache rdd_2116_3 in memory! (computed 110.5 MiB so far)\n",
      "25/04/11 12:19:24 WARN MemoryStore: Not enough space to cache rdd_2116_0 in memory! (computed 166.2 MiB so far)\n",
      "25/04/11 12:19:24 WARN MemoryStore: Not enough space to cache rdd_2116_4 in memory! (computed 166.2 MiB so far)\n",
      "25/04/11 12:19:24 WARN MemoryStore: Not enough space to cache rdd_2116_5 in memory! (computed 166.2 MiB so far)\n",
      "25/04/11 12:19:31 WARN MemoryStore: Not enough space to cache rdd_2116_6 in memory! (computed 580.3 MiB so far)\n",
      "25/04/11 12:19:31 WARN MemoryStore: Not enough space to cache rdd_2116_10 in memory! (computed 72.0 MiB so far)\n",
      "25/04/11 12:19:31 WARN MemoryStore: Not enough space to cache rdd_2116_9 in memory! (computed 110.5 MiB so far)\n",
      "25/04/11 12:19:44 WARN MemoryStore: Not enough space to cache rdd_2116_4 in memory! (computed 110.5 MiB so far)\n",
      "25/04/11 12:19:44 WARN MemoryStore: Not enough space to cache rdd_2116_0 in memory! (computed 166.2 MiB so far)\n",
      "25/04/11 12:19:44 WARN MemoryStore: Not enough space to cache rdd_2116_2 in memory! (computed 110.5 MiB so far)\n",
      "25/04/11 12:19:44 WARN MemoryStore: Not enough space to cache rdd_2116_3 in memory! (computed 166.2 MiB so far)\n",
      "25/04/11 12:19:44 WARN MemoryStore: Not enough space to cache rdd_2116_5 in memory! (computed 166.2 MiB so far)\n",
      "25/04/11 12:19:51 WARN MemoryStore: Not enough space to cache rdd_2116_6 in memory! (computed 378.5 MiB so far)\n",
      "25/04/11 12:19:51 WARN MemoryStore: Not enough space to cache rdd_2116_9 in memory! (computed 250.8 MiB so far)\n",
      "25/04/11 12:19:51 WARN MemoryStore: Not enough space to cache rdd_2116_10 in memory! (computed 110.5 MiB so far)\n",
      "25/04/11 12:20:04 WARN MemoryStore: Not enough space to cache rdd_2116_4 in memory! (computed 110.5 MiB so far)\n",
      "25/04/11 12:20:04 WARN MemoryStore: Not enough space to cache rdd_2116_0 in memory! (computed 110.5 MiB so far)\n",
      "25/04/11 12:20:04 WARN MemoryStore: Not enough space to cache rdd_2116_5 in memory! (computed 166.2 MiB so far)\n",
      "25/04/11 12:20:04 WARN MemoryStore: Not enough space to cache rdd_2116_3 in memory! (computed 166.2 MiB so far)\n",
      "25/04/11 12:20:04 WARN MemoryStore: Not enough space to cache rdd_2116_2 in memory! (computed 166.2 MiB so far)\n",
      "25/04/11 12:20:12 WARN MemoryStore: Not enough space to cache rdd_2116_6 in memory! (computed 580.3 MiB so far)\n",
      "25/04/11 12:20:12 WARN MemoryStore: Not enough space to cache rdd_2116_9 in memory! (computed 166.2 MiB so far)\n",
      "25/04/11 12:20:12 WARN MemoryStore: Not enough space to cache rdd_2116_10 in memory! (computed 8.7 MiB so far)\n",
      "25/04/11 12:20:25 WARN MemoryStore: Not enough space to cache rdd_2116_0 in memory! (computed 166.2 MiB so far)\n",
      "25/04/11 12:20:25 WARN MemoryStore: Not enough space to cache rdd_2116_3 in memory! (computed 166.2 MiB so far)\n",
      "25/04/11 12:20:25 WARN MemoryStore: Not enough space to cache rdd_2116_2 in memory! (computed 110.5 MiB so far)\n",
      "25/04/11 12:20:25 WARN MemoryStore: Not enough space to cache rdd_2116_4 in memory! (computed 166.2 MiB so far)\n",
      "25/04/11 12:20:25 WARN MemoryStore: Not enough space to cache rdd_2116_5 in memory! (computed 110.5 MiB so far)\n",
      "25/04/11 12:20:32 WARN MemoryStore: Not enough space to cache rdd_2116_10 in memory! (computed 8.7 MiB so far)\n",
      "25/04/11 12:20:32 WARN MemoryStore: Not enough space to cache rdd_2116_9 in memory! (computed 166.2 MiB so far)\n",
      "25/04/11 12:20:32 WARN MemoryStore: Not enough space to cache rdd_2116_6 in memory! (computed 580.3 MiB so far)\n",
      "25/04/11 12:20:45 WARN MemoryStore: Not enough space to cache rdd_2116_0 in memory! (computed 110.5 MiB so far)\n",
      "25/04/11 12:20:45 WARN MemoryStore: Not enough space to cache rdd_2116_4 in memory! (computed 110.5 MiB so far)\n",
      "25/04/11 12:20:45 WARN MemoryStore: Not enough space to cache rdd_2116_5 in memory! (computed 166.2 MiB so far)\n",
      "25/04/11 12:20:45 WARN MemoryStore: Not enough space to cache rdd_2116_2 in memory! (computed 166.2 MiB so far)\n",
      "25/04/11 12:20:45 WARN MemoryStore: Not enough space to cache rdd_2116_3 in memory! (computed 166.2 MiB so far)\n",
      "25/04/11 12:20:52 WARN MemoryStore: Not enough space to cache rdd_2116_6 in memory! (computed 580.3 MiB so far)\n",
      "25/04/11 12:20:53 WARN MemoryStore: Not enough space to cache rdd_2116_10 in memory! (computed 72.0 MiB so far)\n",
      "25/04/11 12:20:53 WARN MemoryStore: Not enough space to cache rdd_2116_9 in memory! (computed 110.5 MiB so far)\n",
      "25/04/11 12:21:05 WARN MemoryStore: Not enough space to cache rdd_2116_3 in memory! (computed 166.2 MiB so far)\n",
      "25/04/11 12:21:05 WARN MemoryStore: Not enough space to cache rdd_2116_2 in memory! (computed 166.2 MiB so far)\n",
      "25/04/11 12:21:05 WARN MemoryStore: Not enough space to cache rdd_2116_5 in memory! (computed 166.2 MiB so far)\n",
      "25/04/11 12:21:05 WARN MemoryStore: Not enough space to cache rdd_2116_0 in memory! (computed 110.5 MiB so far)\n",
      "25/04/11 12:21:05 WARN MemoryStore: Not enough space to cache rdd_2116_4 in memory! (computed 110.5 MiB so far)\n",
      "25/04/11 12:21:13 WARN MemoryStore: Not enough space to cache rdd_2116_9 in memory! (computed 110.5 MiB so far)\n",
      "25/04/11 12:21:13 WARN MemoryStore: Not enough space to cache rdd_2116_10 in memory! (computed 72.0 MiB so far)\n",
      "25/04/11 12:21:13 WARN MemoryStore: Not enough space to cache rdd_2116_6 in memory! (computed 580.3 MiB so far)\n",
      "25/04/11 12:21:25 WARN MemoryStore: Not enough space to cache rdd_2116_5 in memory! (computed 110.5 MiB so far)\n",
      "25/04/11 12:21:25 WARN MemoryStore: Not enough space to cache rdd_2116_2 in memory! (computed 110.5 MiB so far)\n",
      "25/04/11 12:21:25 WARN MemoryStore: Not enough space to cache rdd_2116_0 in memory! (computed 166.2 MiB so far)\n",
      "25/04/11 12:21:25 WARN MemoryStore: Not enough space to cache rdd_2116_3 in memory! (computed 166.2 MiB so far)\n",
      "25/04/11 12:21:25 WARN MemoryStore: Not enough space to cache rdd_2116_4 in memory! (computed 166.2 MiB so far)\n",
      "25/04/11 12:21:33 WARN MemoryStore: Not enough space to cache rdd_2116_6 in memory! (computed 580.3 MiB so far)\n",
      "25/04/11 12:21:33 WARN MemoryStore: Not enough space to cache rdd_2116_9 in memory! (computed 166.2 MiB so far)\n",
      "25/04/11 12:21:33 WARN MemoryStore: Not enough space to cache rdd_2116_10 in memory! (computed 8.7 MiB so far)\n",
      "25/04/11 12:21:46 WARN MemoryStore: Not enough space to cache rdd_2116_2 in memory! (computed 110.5 MiB so far)\n",
      "25/04/11 12:21:46 WARN MemoryStore: Not enough space to cache rdd_2116_5 in memory! (computed 110.5 MiB so far)\n",
      "25/04/11 12:21:46 WARN MemoryStore: Not enough space to cache rdd_2116_4 in memory! (computed 166.2 MiB so far)\n",
      "25/04/11 12:21:46 WARN MemoryStore: Not enough space to cache rdd_2116_0 in memory! (computed 166.2 MiB so far)\n",
      "25/04/11 12:21:46 WARN MemoryStore: Not enough space to cache rdd_2116_3 in memory! (computed 166.2 MiB so far)\n",
      "25/04/11 12:21:53 WARN MemoryStore: Not enough space to cache rdd_2116_6 in memory! (computed 580.3 MiB so far)\n",
      "25/04/11 12:21:53 WARN MemoryStore: Not enough space to cache rdd_2116_9 in memory! (computed 166.2 MiB so far)\n",
      "25/04/11 12:21:54 WARN MemoryStore: Not enough space to cache rdd_2116_10 in memory! (computed 8.7 MiB so far)\n",
      "25/04/11 12:22:06 WARN MemoryStore: Not enough space to cache rdd_2116_2 in memory! (computed 110.5 MiB so far)\n",
      "25/04/11 12:22:06 WARN MemoryStore: Not enough space to cache rdd_2116_4 in memory! (computed 110.5 MiB so far)\n",
      "25/04/11 12:22:06 WARN MemoryStore: Not enough space to cache rdd_2116_5 in memory! (computed 166.2 MiB so far)\n",
      "25/04/11 12:22:06 WARN MemoryStore: Not enough space to cache rdd_2116_3 in memory! (computed 166.2 MiB so far)\n",
      "25/04/11 12:22:06 WARN MemoryStore: Not enough space to cache rdd_2116_0 in memory! (computed 166.2 MiB so far)\n",
      "25/04/11 12:22:13 WARN MemoryStore: Not enough space to cache rdd_2116_6 in memory! (computed 580.3 MiB so far)\n",
      "25/04/11 12:22:14 WARN MemoryStore: Not enough space to cache rdd_2116_10 in memory! (computed 8.7 MiB so far)\n",
      "25/04/11 12:22:14 WARN MemoryStore: Not enough space to cache rdd_2116_9 in memory! (computed 166.2 MiB so far)\n",
      "25/04/11 12:22:26 WARN MemoryStore: Not enough space to cache rdd_2116_3 in memory! (computed 110.5 MiB so far)\n",
      "25/04/11 12:22:26 WARN MemoryStore: Not enough space to cache rdd_2116_0 in memory! (computed 110.5 MiB so far)\n",
      "25/04/11 12:22:26 WARN MemoryStore: Not enough space to cache rdd_2116_5 in memory! (computed 166.2 MiB so far)\n",
      "25/04/11 12:22:26 WARN MemoryStore: Not enough space to cache rdd_2116_4 in memory! (computed 166.2 MiB so far)\n",
      "25/04/11 12:22:26 WARN MemoryStore: Not enough space to cache rdd_2116_2 in memory! (computed 166.2 MiB so far)\n",
      "25/04/11 12:22:34 WARN MemoryStore: Not enough space to cache rdd_2116_6 in memory! (computed 580.3 MiB so far)\n",
      "25/04/11 12:22:34 WARN MemoryStore: Not enough space to cache rdd_2116_9 in memory! (computed 110.5 MiB so far)\n",
      "25/04/11 12:22:34 WARN MemoryStore: Not enough space to cache rdd_2116_10 in memory! (computed 72.0 MiB so far)\n",
      "25/04/11 12:22:47 WARN MemoryStore: Not enough space to cache rdd_2116_4 in memory! (computed 110.5 MiB so far)\n",
      "25/04/11 12:22:47 WARN MemoryStore: Not enough space to cache rdd_2116_0 in memory! (computed 110.5 MiB so far)\n",
      "25/04/11 12:22:47 WARN MemoryStore: Not enough space to cache rdd_2116_3 in memory! (computed 166.2 MiB so far)\n",
      "25/04/11 12:22:47 WARN MemoryStore: Not enough space to cache rdd_2116_2 in memory! (computed 166.2 MiB so far)\n",
      "25/04/11 12:22:47 WARN MemoryStore: Not enough space to cache rdd_2116_5 in memory! (computed 166.2 MiB so far)\n",
      "25/04/11 12:22:54 WARN MemoryStore: Not enough space to cache rdd_2116_6 in memory! (computed 378.5 MiB so far)\n",
      "25/04/11 12:22:54 WARN MemoryStore: Not enough space to cache rdd_2116_10 in memory! (computed 110.5 MiB so far)\n",
      "25/04/11 12:22:54 WARN MemoryStore: Not enough space to cache rdd_2116_9 in memory! (computed 250.8 MiB so far)\n",
      "25/04/11 12:23:07 WARN MemoryStore: Not enough space to cache rdd_2116_0 in memory! (computed 110.5 MiB so far)\n",
      "25/04/11 12:23:07 WARN MemoryStore: Not enough space to cache rdd_2116_3 in memory! (computed 110.5 MiB so far)\n",
      "25/04/11 12:23:07 WARN MemoryStore: Not enough space to cache rdd_2116_4 in memory! (computed 166.2 MiB so far)\n",
      "25/04/11 12:23:07 WARN MemoryStore: Not enough space to cache rdd_2116_2 in memory! (computed 166.2 MiB so far)\n",
      "25/04/11 12:23:07 WARN MemoryStore: Not enough space to cache rdd_2116_5 in memory! (computed 166.2 MiB so far)\n",
      "25/04/11 12:23:14 WARN MemoryStore: Not enough space to cache rdd_2116_6 in memory! (computed 580.3 MiB so far)\n",
      "25/04/11 12:23:15 WARN MemoryStore: Not enough space to cache rdd_2116_9 in memory! (computed 110.5 MiB so far)\n",
      "25/04/11 12:23:15 WARN MemoryStore: Not enough space to cache rdd_2116_10 in memory! (computed 72.0 MiB so far)\n",
      "25/04/11 12:23:27 WARN MemoryStore: Not enough space to cache rdd_2116_0 in memory! (computed 110.5 MiB so far)\n",
      "25/04/11 12:23:27 WARN MemoryStore: Not enough space to cache rdd_2116_4 in memory! (computed 110.5 MiB so far)\n",
      "25/04/11 12:23:27 WARN MemoryStore: Not enough space to cache rdd_2116_3 in memory! (computed 166.2 MiB so far)\n",
      "25/04/11 12:23:27 WARN MemoryStore: Not enough space to cache rdd_2116_5 in memory! (computed 166.2 MiB so far)\n",
      "25/04/11 12:23:27 WARN MemoryStore: Not enough space to cache rdd_2116_2 in memory! (computed 166.2 MiB so far)\n",
      "25/04/11 12:23:35 WARN MemoryStore: Not enough space to cache rdd_2116_9 in memory! (computed 110.5 MiB so far)\n",
      "25/04/11 12:23:35 WARN MemoryStore: Not enough space to cache rdd_2116_6 in memory! (computed 580.3 MiB so far)\n",
      "25/04/11 12:23:35 WARN MemoryStore: Not enough space to cache rdd_2116_10 in memory! (computed 72.0 MiB so far)\n",
      "25/04/11 12:23:47 WARN MemoryStore: Not enough space to cache rdd_2116_5 in memory! (computed 72.0 MiB so far)\n",
      "25/04/11 12:23:47 WARN MemoryStore: Not enough space to cache rdd_2116_0 in memory! (computed 166.2 MiB so far)\n",
      "25/04/11 12:23:47 WARN MemoryStore: Not enough space to cache rdd_2116_3 in memory! (computed 166.2 MiB so far)\n",
      "25/04/11 12:23:47 WARN MemoryStore: Not enough space to cache rdd_2116_4 in memory! (computed 166.2 MiB so far)\n",
      "25/04/11 12:23:47 WARN MemoryStore: Not enough space to cache rdd_2116_2 in memory! (computed 166.2 MiB so far)\n",
      "25/04/11 12:23:55 WARN MemoryStore: Not enough space to cache rdd_2116_6 in memory! (computed 580.3 MiB so far)\n",
      "25/04/11 12:23:55 WARN MemoryStore: Not enough space to cache rdd_2116_9 in memory! (computed 166.2 MiB so far)\n",
      "25/04/11 12:23:55 WARN MemoryStore: Not enough space to cache rdd_2116_10 in memory! (computed 8.7 MiB so far)\n",
      "25/04/11 12:24:08 WARN MemoryStore: Not enough space to cache rdd_2116_0 in memory! (computed 110.5 MiB so far)\n",
      "25/04/11 12:24:08 WARN MemoryStore: Not enough space to cache rdd_2116_2 in memory! (computed 110.5 MiB so far)\n",
      "25/04/11 12:24:08 WARN MemoryStore: Not enough space to cache rdd_2116_5 in memory! (computed 166.2 MiB so far)\n",
      "25/04/11 12:24:08 WARN MemoryStore: Not enough space to cache rdd_2116_4 in memory! (computed 166.2 MiB so far)\n",
      "25/04/11 12:24:08 WARN MemoryStore: Not enough space to cache rdd_2116_3 in memory! (computed 166.2 MiB so far)\n",
      "25/04/11 12:24:15 WARN MemoryStore: Not enough space to cache rdd_2116_6 in memory! (computed 580.3 MiB so far)\n",
      "25/04/11 12:24:15 WARN MemoryStore: Not enough space to cache rdd_2116_9 in memory! (computed 110.5 MiB so far)\n",
      "25/04/11 12:24:16 WARN MemoryStore: Not enough space to cache rdd_2116_10 in memory! (computed 72.0 MiB so far)\n",
      "25/04/11 12:24:28 WARN MemoryStore: Not enough space to cache rdd_2116_4 in memory! (computed 110.5 MiB so far)\n",
      "25/04/11 12:24:28 WARN MemoryStore: Not enough space to cache rdd_2116_5 in memory! (computed 110.5 MiB so far)\n",
      "25/04/11 12:24:28 WARN MemoryStore: Not enough space to cache rdd_2116_0 in memory! (computed 166.2 MiB so far)\n",
      "25/04/11 12:24:28 WARN MemoryStore: Not enough space to cache rdd_2116_2 in memory! (computed 166.2 MiB so far)\n",
      "25/04/11 12:24:28 WARN MemoryStore: Not enough space to cache rdd_2116_3 in memory! (computed 166.2 MiB so far)\n",
      "25/04/11 12:24:36 WARN MemoryStore: Not enough space to cache rdd_2116_6 in memory! (computed 580.3 MiB so far)\n",
      "25/04/11 12:24:36 WARN MemoryStore: Not enough space to cache rdd_2116_10 in memory! (computed 72.0 MiB so far)\n",
      "25/04/11 12:24:36 WARN MemoryStore: Not enough space to cache rdd_2116_9 in memory! (computed 110.5 MiB so far)\n",
      "25/04/11 12:24:48 WARN MemoryStore: Not enough space to cache rdd_2116_5 in memory! (computed 110.5 MiB so far)\n",
      "25/04/11 12:24:48 WARN MemoryStore: Not enough space to cache rdd_2116_4 in memory! (computed 110.5 MiB so far)\n",
      "25/04/11 12:24:48 WARN MemoryStore: Not enough space to cache rdd_2116_0 in memory! (computed 166.2 MiB so far)\n",
      "25/04/11 12:24:48 WARN MemoryStore: Not enough space to cache rdd_2116_3 in memory! (computed 166.2 MiB so far)\n",
      "25/04/11 12:24:48 WARN MemoryStore: Not enough space to cache rdd_2116_2 in memory! (computed 166.2 MiB so far)\n",
      "25/04/11 12:24:56 WARN MemoryStore: Not enough space to cache rdd_2116_6 in memory! (computed 580.3 MiB so far)\n",
      "25/04/11 12:24:56 WARN MemoryStore: Not enough space to cache rdd_2116_10 in memory! (computed 72.0 MiB so far)\n",
      "25/04/11 12:24:56 WARN MemoryStore: Not enough space to cache rdd_2116_9 in memory! (computed 110.5 MiB so far)\n",
      "25/04/11 12:25:09 WARN MemoryStore: Not enough space to cache rdd_2116_3 in memory! (computed 110.5 MiB so far)\n",
      "25/04/11 12:25:09 WARN MemoryStore: Not enough space to cache rdd_2116_4 in memory! (computed 110.5 MiB so far)\n",
      "25/04/11 12:25:09 WARN MemoryStore: Not enough space to cache rdd_2116_5 in memory! (computed 166.2 MiB so far)\n",
      "25/04/11 12:25:09 WARN MemoryStore: Not enough space to cache rdd_2116_0 in memory! (computed 166.2 MiB so far)\n",
      "25/04/11 12:25:09 WARN MemoryStore: Not enough space to cache rdd_2116_2 in memory! (computed 166.2 MiB so far)\n",
      "25/04/11 12:25:16 WARN MemoryStore: Not enough space to cache rdd_2116_6 in memory! (computed 580.3 MiB so far)\n",
      "25/04/11 12:25:16 WARN MemoryStore: Not enough space to cache rdd_2116_9 in memory! (computed 166.2 MiB so far)\n",
      "25/04/11 12:25:17 WARN MemoryStore: Not enough space to cache rdd_2116_10 in memory! (computed 8.7 MiB so far)\n",
      "25/04/11 12:25:29 WARN MemoryStore: Not enough space to cache rdd_2116_0 in memory! (computed 110.5 MiB so far)\n",
      "25/04/11 12:25:29 WARN MemoryStore: Not enough space to cache rdd_2116_3 in memory! (computed 110.5 MiB so far)\n",
      "25/04/11 12:25:29 WARN MemoryStore: Not enough space to cache rdd_2116_5 in memory! (computed 166.2 MiB so far)\n",
      "25/04/11 12:25:29 WARN MemoryStore: Not enough space to cache rdd_2116_4 in memory! (computed 166.2 MiB so far)\n",
      "25/04/11 12:25:29 WARN MemoryStore: Not enough space to cache rdd_2116_2 in memory! (computed 166.2 MiB so far)\n",
      "25/04/11 12:25:37 WARN MemoryStore: Not enough space to cache rdd_2116_10 in memory! (computed 8.7 MiB so far)\n",
      "25/04/11 12:25:37 WARN MemoryStore: Not enough space to cache rdd_2116_9 in memory! (computed 166.2 MiB so far)\n",
      "25/04/11 12:25:37 WARN MemoryStore: Not enough space to cache rdd_2116_6 in memory! (computed 580.3 MiB so far)\n",
      "25/04/11 12:25:49 WARN MemoryStore: Not enough space to cache rdd_2116_0 in memory! (computed 110.5 MiB so far)\n",
      "25/04/11 12:25:49 WARN MemoryStore: Not enough space to cache rdd_2116_5 in memory! (computed 110.5 MiB so far)\n",
      "25/04/11 12:25:49 WARN MemoryStore: Not enough space to cache rdd_2116_3 in memory! (computed 166.2 MiB so far)\n",
      "25/04/11 12:25:49 WARN MemoryStore: Not enough space to cache rdd_2116_4 in memory! (computed 166.2 MiB so far)\n",
      "25/04/11 12:25:49 WARN MemoryStore: Not enough space to cache rdd_2116_2 in memory! (computed 166.2 MiB so far)\n",
      "25/04/11 12:25:57 WARN MemoryStore: Not enough space to cache rdd_2116_6 in memory! (computed 580.3 MiB so far)\n",
      "25/04/11 12:25:57 WARN MemoryStore: Not enough space to cache rdd_2116_10 in memory! (computed 72.0 MiB so far)\n",
      "25/04/11 12:25:57 WARN MemoryStore: Not enough space to cache rdd_2116_9 in memory! (computed 110.5 MiB so far)\n",
      "25/04/11 12:26:09 WARN MemoryStore: Not enough space to cache rdd_2116_2 in memory! (computed 110.5 MiB so far)\n",
      "25/04/11 12:26:09 WARN MemoryStore: Not enough space to cache rdd_2116_5 in memory! (computed 166.2 MiB so far)\n",
      "25/04/11 12:26:09 WARN MemoryStore: Not enough space to cache rdd_2116_0 in memory! (computed 110.5 MiB so far)\n",
      "25/04/11 12:26:09 WARN MemoryStore: Not enough space to cache rdd_2116_3 in memory! (computed 166.2 MiB so far)\n",
      "25/04/11 12:26:09 WARN MemoryStore: Not enough space to cache rdd_2116_4 in memory! (computed 166.2 MiB so far)\n",
      "25/04/11 12:26:17 WARN MemoryStore: Not enough space to cache rdd_2116_6 in memory! (computed 378.5 MiB so far)\n",
      "25/04/11 12:26:17 WARN MemoryStore: Not enough space to cache rdd_2116_10 in memory! (computed 166.2 MiB so far)\n",
      "25/04/11 12:26:17 WARN MemoryStore: Not enough space to cache rdd_2116_9 in memory! (computed 166.2 MiB so far)\n",
      "25/04/11 12:26:29 WARN MemoryStore: Not enough space to cache rdd_2116_5 in memory! (computed 110.5 MiB so far)\n",
      "25/04/11 12:26:29 WARN MemoryStore: Not enough space to cache rdd_2116_3 in memory! (computed 110.5 MiB so far)\n",
      "25/04/11 12:26:29 WARN MemoryStore: Not enough space to cache rdd_2116_4 in memory! (computed 166.2 MiB so far)\n",
      "25/04/11 12:26:29 WARN MemoryStore: Not enough space to cache rdd_2116_2 in memory! (computed 166.2 MiB so far)\n",
      "25/04/11 12:26:29 WARN MemoryStore: Not enough space to cache rdd_2116_0 in memory! (computed 166.2 MiB so far)\n",
      "25/04/11 12:26:37 WARN MemoryStore: Not enough space to cache rdd_2116_6 in memory! (computed 580.3 MiB so far)\n",
      "25/04/11 12:26:37 WARN MemoryStore: Not enough space to cache rdd_2116_9 in memory! (computed 110.5 MiB so far)\n",
      "25/04/11 12:26:37 WARN MemoryStore: Not enough space to cache rdd_2116_10 in memory! (computed 72.0 MiB so far)\n",
      "25/04/11 12:26:50 WARN MemoryStore: Not enough space to cache rdd_2116_3 in memory! (computed 72.0 MiB so far)\n",
      "25/04/11 12:26:50 WARN MemoryStore: Not enough space to cache rdd_2116_5 in memory! (computed 166.2 MiB so far)\n",
      "25/04/11 12:26:50 WARN MemoryStore: Not enough space to cache rdd_2116_4 in memory! (computed 166.2 MiB so far)\n",
      "25/04/11 12:26:50 WARN MemoryStore: Not enough space to cache rdd_2116_0 in memory! (computed 166.2 MiB so far)\n",
      "25/04/11 12:26:50 WARN MemoryStore: Not enough space to cache rdd_2116_2 in memory! (computed 166.2 MiB so far)\n",
      "25/04/11 12:26:57 WARN MemoryStore: Not enough space to cache rdd_2116_6 in memory! (computed 580.3 MiB so far)\n",
      "25/04/11 12:26:57 WARN MemoryStore: Not enough space to cache rdd_2116_9 in memory! (computed 166.2 MiB so far)\n",
      "25/04/11 12:26:57 WARN MemoryStore: Not enough space to cache rdd_2116_10 in memory! (computed 8.7 MiB so far)\n",
      "25/04/11 12:27:10 WARN MemoryStore: Not enough space to cache rdd_2116_0 in memory! (computed 110.5 MiB so far)\n",
      "25/04/11 12:27:10 WARN MemoryStore: Not enough space to cache rdd_2116_5 in memory! (computed 110.5 MiB so far)\n",
      "25/04/11 12:27:10 WARN MemoryStore: Not enough space to cache rdd_2116_3 in memory! (computed 166.2 MiB so far)\n",
      "25/04/11 12:27:10 WARN MemoryStore: Not enough space to cache rdd_2116_4 in memory! (computed 166.2 MiB so far)\n",
      "25/04/11 12:27:10 WARN MemoryStore: Not enough space to cache rdd_2116_2 in memory! (computed 166.2 MiB so far)\n",
      "25/04/11 12:27:18 WARN MemoryStore: Not enough space to cache rdd_2116_6 in memory! (computed 378.5 MiB so far)\n",
      "25/04/11 12:27:18 WARN MemoryStore: Not enough space to cache rdd_2116_9 in memory! (computed 250.8 MiB so far)\n",
      "25/04/11 12:27:18 WARN MemoryStore: Not enough space to cache rdd_2116_10 in memory! (computed 110.5 MiB so far)\n",
      "25/04/11 12:27:30 WARN MemoryStore: Not enough space to cache rdd_2116_5 in memory! (computed 166.2 MiB so far)\n",
      "25/04/11 12:27:30 WARN MemoryStore: Not enough space to cache rdd_2116_4 in memory! (computed 166.2 MiB so far)\n",
      "25/04/11 12:27:30 WARN MemoryStore: Not enough space to cache rdd_2116_2 in memory! (computed 110.5 MiB so far)\n",
      "25/04/11 12:27:30 WARN MemoryStore: Not enough space to cache rdd_2116_3 in memory! (computed 110.5 MiB so far)\n",
      "25/04/11 12:27:30 WARN MemoryStore: Not enough space to cache rdd_2116_0 in memory! (computed 166.2 MiB so far)\n",
      "25/04/11 12:27:38 WARN MemoryStore: Not enough space to cache rdd_2116_9 in memory! (computed 166.2 MiB so far)\n",
      "25/04/11 12:27:38 WARN MemoryStore: Not enough space to cache rdd_2116_10 in memory! (computed 8.7 MiB so far)\n",
      "25/04/11 12:27:38 WARN MemoryStore: Not enough space to cache rdd_2116_6 in memory! (computed 580.3 MiB so far)\n",
      "25/04/11 12:27:51 WARN MemoryStore: Not enough space to cache rdd_2116_5 in memory! (computed 110.5 MiB so far)\n",
      "25/04/11 12:27:51 WARN MemoryStore: Not enough space to cache rdd_2116_4 in memory! (computed 110.5 MiB so far)\n",
      "25/04/11 12:27:51 WARN MemoryStore: Not enough space to cache rdd_2116_0 in memory! (computed 166.2 MiB so far)\n",
      "25/04/11 12:27:51 WARN MemoryStore: Not enough space to cache rdd_2116_2 in memory! (computed 166.2 MiB so far)\n",
      "25/04/11 12:27:51 WARN MemoryStore: Not enough space to cache rdd_2116_3 in memory! (computed 166.2 MiB so far)\n",
      "25/04/11 12:27:58 WARN MemoryStore: Not enough space to cache rdd_2116_6 in memory! (computed 580.3 MiB so far)\n",
      "25/04/11 12:27:59 WARN MemoryStore: Not enough space to cache rdd_2116_10 in memory! (computed 8.7 MiB so far)\n",
      "25/04/11 12:27:59 WARN MemoryStore: Not enough space to cache rdd_2116_9 in memory! (computed 166.2 MiB so far)\n",
      "25/04/11 12:28:11 WARN MemoryStore: Not enough space to cache rdd_2116_3 in memory! (computed 110.5 MiB so far)\n",
      "25/04/11 12:28:11 WARN MemoryStore: Not enough space to cache rdd_2116_0 in memory! (computed 110.5 MiB so far)\n",
      "25/04/11 12:28:11 WARN MemoryStore: Not enough space to cache rdd_2116_4 in memory! (computed 166.2 MiB so far)\n",
      "25/04/11 12:28:11 WARN MemoryStore: Not enough space to cache rdd_2116_5 in memory! (computed 166.2 MiB so far)\n",
      "25/04/11 12:28:11 WARN MemoryStore: Not enough space to cache rdd_2116_2 in memory! (computed 166.2 MiB so far)\n",
      "25/04/11 12:28:19 WARN MemoryStore: Not enough space to cache rdd_2116_6 in memory! (computed 378.5 MiB so far)\n",
      "25/04/11 12:28:19 WARN MemoryStore: Not enough space to cache rdd_2116_10 in memory! (computed 110.5 MiB so far)\n",
      "25/04/11 12:28:19 WARN MemoryStore: Not enough space to cache rdd_2116_9 in memory! (computed 250.8 MiB so far)\n",
      "25/04/11 12:28:32 WARN MemoryStore: Not enough space to cache rdd_2116_2 in memory! (computed 110.5 MiB so far)\n",
      "25/04/11 12:28:32 WARN MemoryStore: Not enough space to cache rdd_2116_4 in memory! (computed 110.5 MiB so far)\n",
      "25/04/11 12:28:32 WARN MemoryStore: Not enough space to cache rdd_2116_0 in memory! (computed 166.2 MiB so far)\n",
      "25/04/11 12:28:32 WARN MemoryStore: Not enough space to cache rdd_2116_5 in memory! (computed 166.2 MiB so far)\n",
      "25/04/11 12:28:32 WARN MemoryStore: Not enough space to cache rdd_2116_3 in memory! (computed 166.2 MiB so far)\n",
      "25/04/11 12:28:39 WARN MemoryStore: Not enough space to cache rdd_2116_6 in memory! (computed 580.3 MiB so far)\n",
      "25/04/11 12:28:39 WARN MemoryStore: Not enough space to cache rdd_2116_10 in memory! (computed 72.0 MiB so far)\n",
      "25/04/11 12:28:39 WARN MemoryStore: Not enough space to cache rdd_2116_9 in memory! (computed 110.5 MiB so far)\n",
      "25/04/11 12:28:52 WARN MemoryStore: Not enough space to cache rdd_2116_5 in memory! (computed 110.5 MiB so far)\n",
      "25/04/11 12:28:52 WARN MemoryStore: Not enough space to cache rdd_2116_4 in memory! (computed 110.5 MiB so far)\n",
      "25/04/11 12:28:52 WARN MemoryStore: Not enough space to cache rdd_2116_0 in memory! (computed 166.2 MiB so far)\n",
      "25/04/11 12:28:52 WARN MemoryStore: Not enough space to cache rdd_2116_2 in memory! (computed 166.2 MiB so far)\n",
      "25/04/11 12:28:52 WARN MemoryStore: Not enough space to cache rdd_2116_3 in memory! (computed 166.2 MiB so far)\n",
      "25/04/11 12:29:00 WARN MemoryStore: Not enough space to cache rdd_2116_6 in memory! (computed 580.3 MiB so far)\n",
      "25/04/11 12:29:00 WARN MemoryStore: Not enough space to cache rdd_2116_9 in memory! (computed 166.2 MiB so far)\n",
      "25/04/11 12:29:00 WARN MemoryStore: Not enough space to cache rdd_2116_10 in memory! (computed 8.7 MiB so far)\n",
      "25/04/11 12:29:12 WARN MemoryStore: Not enough space to cache rdd_2116_0 in memory! (computed 166.2 MiB so far)\n",
      "25/04/11 12:29:12 WARN MemoryStore: Not enough space to cache rdd_2116_5 in memory! (computed 166.2 MiB so far)\n",
      "25/04/11 12:29:12 WARN MemoryStore: Not enough space to cache rdd_2116_3 in memory! (computed 166.2 MiB so far)\n",
      "25/04/11 12:29:12 WARN MemoryStore: Not enough space to cache rdd_2116_4 in memory! (computed 110.5 MiB so far)\n",
      "25/04/11 12:29:12 WARN MemoryStore: Not enough space to cache rdd_2116_2 in memory! (computed 110.5 MiB so far)\n",
      "25/04/11 12:29:20 WARN MemoryStore: Not enough space to cache rdd_2116_6 in memory! (computed 580.3 MiB so far)\n",
      "25/04/11 12:29:20 WARN MemoryStore: Not enough space to cache rdd_2116_10 in memory! (computed 72.0 MiB so far)\n",
      "25/04/11 12:29:20 WARN MemoryStore: Not enough space to cache rdd_2116_9 in memory! (computed 110.5 MiB so far)\n",
      "25/04/11 12:29:33 WARN MemoryStore: Not enough space to cache rdd_2116_3 in memory! (computed 110.5 MiB so far)\n",
      "25/04/11 12:29:33 WARN MemoryStore: Not enough space to cache rdd_2116_2 in memory! (computed 110.5 MiB so far)\n",
      "25/04/11 12:29:33 WARN MemoryStore: Not enough space to cache rdd_2116_0 in memory! (computed 166.2 MiB so far)\n",
      "25/04/11 12:29:33 WARN MemoryStore: Not enough space to cache rdd_2116_5 in memory! (computed 166.2 MiB so far)\n",
      "25/04/11 12:29:33 WARN MemoryStore: Not enough space to cache rdd_2116_4 in memory! (computed 166.2 MiB so far)\n",
      "25/04/11 12:29:40 WARN MemoryStore: Not enough space to cache rdd_2116_6 in memory! (computed 580.3 MiB so far)\n",
      "25/04/11 12:29:40 WARN MemoryStore: Not enough space to cache rdd_2116_9 in memory! (computed 166.2 MiB so far)\n",
      "25/04/11 12:29:40 WARN MemoryStore: Not enough space to cache rdd_2116_10 in memory! (computed 8.7 MiB so far)\n",
      "25/04/11 12:29:53 WARN MemoryStore: Not enough space to cache rdd_2116_5 in memory! (computed 110.5 MiB so far)\n",
      "25/04/11 12:29:53 WARN MemoryStore: Not enough space to cache rdd_2116_0 in memory! (computed 110.5 MiB so far)\n",
      "25/04/11 12:29:53 WARN MemoryStore: Not enough space to cache rdd_2116_4 in memory! (computed 166.2 MiB so far)\n",
      "25/04/11 12:29:53 WARN MemoryStore: Not enough space to cache rdd_2116_3 in memory! (computed 166.2 MiB so far)\n",
      "25/04/11 12:29:53 WARN MemoryStore: Not enough space to cache rdd_2116_2 in memory! (computed 166.2 MiB so far)\n",
      "25/04/11 12:30:00 WARN MemoryStore: Not enough space to cache rdd_2116_6 in memory! (computed 580.3 MiB so far)\n",
      "25/04/11 12:30:01 WARN MemoryStore: Not enough space to cache rdd_2116_10 in memory! (computed 8.7 MiB so far)\n",
      "25/04/11 12:30:01 WARN MemoryStore: Not enough space to cache rdd_2116_9 in memory! (computed 166.2 MiB so far)\n",
      "25/04/11 12:30:13 WARN MemoryStore: Not enough space to cache rdd_2116_5 in memory! (computed 110.5 MiB so far)\n",
      "25/04/11 12:30:13 WARN MemoryStore: Not enough space to cache rdd_2116_0 in memory! (computed 110.5 MiB so far)\n",
      "25/04/11 12:30:13 WARN MemoryStore: Not enough space to cache rdd_2116_2 in memory! (computed 166.2 MiB so far)\n",
      "25/04/11 12:30:13 WARN MemoryStore: Not enough space to cache rdd_2116_4 in memory! (computed 166.2 MiB so far)\n",
      "25/04/11 12:30:13 WARN MemoryStore: Not enough space to cache rdd_2116_3 in memory! (computed 166.2 MiB so far)\n",
      "25/04/11 12:30:21 WARN MemoryStore: Not enough space to cache rdd_2116_10 in memory! (computed 8.7 MiB so far)\n",
      "25/04/11 12:30:21 WARN MemoryStore: Not enough space to cache rdd_2116_9 in memory! (computed 166.2 MiB so far)\n",
      "25/04/11 12:30:21 WARN MemoryStore: Not enough space to cache rdd_2116_6 in memory! (computed 580.3 MiB so far)\n",
      "25/04/11 12:30:33 WARN MemoryStore: Not enough space to cache rdd_2116_4 in memory! (computed 110.5 MiB so far)\n",
      "25/04/11 12:30:33 WARN MemoryStore: Not enough space to cache rdd_2116_5 in memory! (computed 110.5 MiB so far)\n",
      "25/04/11 12:30:33 WARN MemoryStore: Not enough space to cache rdd_2116_0 in memory! (computed 166.2 MiB so far)\n",
      "25/04/11 12:30:33 WARN MemoryStore: Not enough space to cache rdd_2116_3 in memory! (computed 166.2 MiB so far)\n",
      "25/04/11 12:30:33 WARN MemoryStore: Not enough space to cache rdd_2116_2 in memory! (computed 166.2 MiB so far)\n",
      "25/04/11 12:30:41 WARN MemoryStore: Not enough space to cache rdd_2116_9 in memory! (computed 250.8 MiB so far)\n",
      "25/04/11 12:30:41 WARN MemoryStore: Not enough space to cache rdd_2116_10 in memory! (computed 110.5 MiB so far)\n",
      "25/04/11 12:30:41 WARN MemoryStore: Not enough space to cache rdd_2116_6 in memory! (computed 378.5 MiB so far)\n",
      "25/04/11 12:30:54 WARN MemoryStore: Not enough space to cache rdd_2116_2 in memory! (computed 110.5 MiB so far)\n",
      "25/04/11 12:30:54 WARN MemoryStore: Not enough space to cache rdd_2116_5 in memory! (computed 110.5 MiB so far)\n",
      "25/04/11 12:30:54 WARN MemoryStore: Not enough space to cache rdd_2116_0 in memory! (computed 166.2 MiB so far)\n",
      "25/04/11 12:30:54 WARN MemoryStore: Not enough space to cache rdd_2116_4 in memory! (computed 166.2 MiB so far)\n",
      "25/04/11 12:30:54 WARN MemoryStore: Not enough space to cache rdd_2116_3 in memory! (computed 166.2 MiB so far)\n",
      "25/04/11 12:31:01 WARN MemoryStore: Not enough space to cache rdd_2116_6 in memory! (computed 580.3 MiB so far)\n",
      "25/04/11 12:31:01 WARN MemoryStore: Not enough space to cache rdd_2116_9 in memory! (computed 110.5 MiB so far)\n",
      "25/04/11 12:31:01 WARN MemoryStore: Not enough space to cache rdd_2116_10 in memory! (computed 72.0 MiB so far)\n",
      "25/04/11 12:31:14 WARN MemoryStore: Not enough space to cache rdd_2116_3 in memory! (computed 166.2 MiB so far)\n",
      "25/04/11 12:31:14 WARN MemoryStore: Not enough space to cache rdd_2116_2 in memory! (computed 166.2 MiB so far)\n",
      "25/04/11 12:31:14 WARN MemoryStore: Not enough space to cache rdd_2116_4 in memory! (computed 166.2 MiB so far)\n",
      "25/04/11 12:31:14 WARN MemoryStore: Not enough space to cache rdd_2116_0 in memory! (computed 110.5 MiB so far)\n",
      "25/04/11 12:31:14 WARN MemoryStore: Not enough space to cache rdd_2116_5 in memory! (computed 110.5 MiB so far)\n",
      "25/04/11 12:31:21 WARN MemoryStore: Not enough space to cache rdd_2116_6 in memory! (computed 580.3 MiB so far)\n",
      "25/04/11 12:31:22 WARN MemoryStore: Not enough space to cache rdd_2116_9 in memory! (computed 166.2 MiB so far)\n",
      "25/04/11 12:31:22 WARN MemoryStore: Not enough space to cache rdd_2116_10 in memory! (computed 8.7 MiB so far)\n",
      "25/04/11 12:31:34 WARN MemoryStore: Not enough space to cache rdd_2116_3 in memory! (computed 110.5 MiB so far)\n",
      "25/04/11 12:31:34 WARN MemoryStore: Not enough space to cache rdd_2116_5 in memory! (computed 110.5 MiB so far)\n",
      "25/04/11 12:31:34 WARN MemoryStore: Not enough space to cache rdd_2116_0 in memory! (computed 166.2 MiB so far)\n",
      "25/04/11 12:31:34 WARN MemoryStore: Not enough space to cache rdd_2116_4 in memory! (computed 166.2 MiB so far)\n",
      "25/04/11 12:31:34 WARN MemoryStore: Not enough space to cache rdd_2116_2 in memory! (computed 166.2 MiB so far)\n",
      "25/04/11 12:31:42 WARN MemoryStore: Not enough space to cache rdd_2116_6 in memory! (computed 378.5 MiB so far)\n",
      "25/04/11 12:31:42 WARN MemoryStore: Not enough space to cache rdd_2116_9 in memory! (computed 250.8 MiB so far)\n",
      "25/04/11 12:31:42 WARN MemoryStore: Not enough space to cache rdd_2116_10 in memory! (computed 110.5 MiB so far)\n",
      "[Stage 818:===================================================>   (13 + 1) / 14]\r"
     ]
    },
    {
     "name": "stdout",
     "output_type": "stream",
     "text": [
      "Model: Multilayer Perceptron without PCA\n",
      "Accuracy: 0.7171\n",
      "Precision: 0.5142\n",
      "Recall: 0.7171\n",
      "F1 Score: 0.5989\n",
      "-------------------------------------\n"
     ]
    },
    {
     "name": "stderr",
     "output_type": "stream",
     "text": [
      "                                                                                \r"
     ]
    }
   ],
   "source": [
    "print(\"Training Multilayer Perceptron model...\")\n",
    "# Get feature dimension for MLP layer configuration\n",
    "num_features = len(df_fe.select(feature_col).first()[0])\n",
    "num_classes = df_fe.select(\"Severity\").distinct().count()\n",
    "\n",
    "layers = [num_features, 64, 32, num_classes]\n",
    "\n",
    "mlp = MultilayerPerceptronClassifier(\n",
    "    featuresCol=feature_col,\n",
    "    labelCol=\"label\",\n",
    "    layers=layers,\n",
    "    blockSize=128,\n",
    "    seed=42,\n",
    "    maxIter=20,\n",
    "    tol=1e-4\n",
    ")\n",
    "\n",
    "mlp_pipeline = Pipeline(stages=[label_indexer, mlp])\n",
    "mlp_model = mlp_pipeline.fit(train_data)\n",
    "mlp_predictions = mlp_model.transform(test_data)\n",
    "mlp_metrics = evaluate_model(mlp_predictions, \"Multilayer Perceptron without PCA\")"
   ]
  },
  {
   "cell_type": "markdown",
   "metadata": {},
   "source": [
    "### Best Model"
   ]
  },
  {
   "cell_type": "code",
   "execution_count": null,
   "metadata": {},
   "outputs": [
    {
     "name": "stdout",
     "output_type": "stream",
     "text": [
      "Best model: Logistic Regression with F1 score: 1.0000\n"
     ]
    }
   ],
   "source": [
    "models = [(\"Logistic Regression\", lr_model, lr_metrics), \n",
    "          (\"Random Forest\", rf_model, rf_metrics), \n",
    "          (\"Multilayer Perceptron\", mlp_model, mlp_metrics)]\n",
    "\n",
    "\n",
    "best_model_name, best_model, best_metrics = max(models, key=lambda x: x[2][3])\n",
    "best_predictions = best_metrics[4]\n",
    "print(f\"Best model: {best_model_name} with F1 score: {best_metrics[3]:.4f}\")"
   ]
  },
  {
   "cell_type": "code",
   "execution_count": null,
   "metadata": {},
   "outputs": [
    {
     "name": "stderr",
     "output_type": "stream",
     "text": [
      "                                                                                \r"
     ]
    },
    {
     "name": "stdout",
     "output_type": "stream",
     "text": [
      "Confusion Matrix:\n"
     ]
    },
    {
     "name": "stderr",
     "output_type": "stream",
     "text": [
      "[Stage 828:===================================================>   (13 + 1) / 14]\r"
     ]
    },
    {
     "name": "stdout",
     "output_type": "stream",
     "text": [
      "+----------+------+------+-----+----+\n",
      "|prediction|   0.0|   1.0|  2.0| 3.0|\n",
      "+----------+------+------+-----+----+\n",
      "|       0.0|650856|     1|    0|   0|\n",
      "|       1.0|     0|235437|    0|   0|\n",
      "|       3.0|     0|     0|    0|7857|\n",
      "|       2.0|     2|     0|13520|   0|\n",
      "+----------+------+------+-----+----+\n",
      "\n"
     ]
    },
    {
     "name": "stderr",
     "output_type": "stream",
     "text": [
      "                                                                                \r"
     ]
    }
   ],
   "source": [
    "pred_and_labels = best_predictions.select(\"prediction\", \"label\")\n",
    "confusion_matrix = pred_and_labels.groupBy(\"prediction\").pivot(\"label\").count().fillna(0)\n",
    "print(\"Confusion Matrix:\")\n",
    "confusion_matrix.show()"
   ]
  }
 ],
 "metadata": {
  "kernelspec": {
   "display_name": "IR",
   "language": "python",
   "name": "python3"
  },
  "language_info": {
   "codemirror_mode": {
    "name": "ipython",
    "version": 3
   },
   "file_extension": ".py",
   "mimetype": "text/x-python",
   "name": "python",
   "nbconvert_exporter": "python",
   "pygments_lexer": "ipython3",
   "version": "3.9.21"
  }
 },
 "nbformat": 4,
 "nbformat_minor": 2
}
